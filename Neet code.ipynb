{
 "cells": [
  {
   "cell_type": "markdown",
   "id": "29ec0117",
   "metadata": {},
   "source": [
    "# Neet code 1 - Two sum target value "
   ]
  },
  {
   "cell_type": "code",
   "execution_count": null,
   "id": "392ccc50",
   "metadata": {},
   "outputs": [],
   "source": [
    "class solution:\n",
    "    \n",
    "    def twosum(self,nums, target: int):        \n",
    "        prevMap = {}\n",
    "        \n",
    "        for i, n in enumerate(nums):            \n",
    "            difference = target-n            \n",
    "            if difference in prevMap:\n",
    "                return[prevMap[diff], i]\n",
    "            prevMap[n] =i\n",
    "            \n",
    "        return \n",
    "\n",
    "    #changes in the repo \n",
    "                "
   ]
  },
  {
   "cell_type": "code",
   "execution_count": null,
   "id": "e13b2c84",
   "metadata": {},
   "outputs": [],
   "source": []
  },
  {
   "cell_type": "code",
   "execution_count": 1,
   "id": "ed9c807d",
   "metadata": {},
   "outputs": [
    {
     "data": {
      "text/plain": [
       "[0, 2]"
      ]
     },
     "execution_count": 1,
     "metadata": {},
     "output_type": "execute_result"
    }
   ],
   "source": [
    "def twosum(nums, target):        \n",
    "    prevMap = {}\n",
    "    for i, n in enumerate(nums):            \n",
    "        diff = target-n            \n",
    "        if diff in prevMap:\n",
    "            return[prevMap[diff], i]\n",
    "        prevMap[n] =i\n",
    "            \n",
    "    return\n",
    "\n",
    "twosum([1,2,3,4],4)"
   ]
  },
  {
   "cell_type": "markdown",
   "id": "155d526b",
   "metadata": {},
   "source": [
    "# Neet code 2 - Max profit "
   ]
  },
  {
   "cell_type": "code",
   "execution_count": null,
   "id": "242dd538",
   "metadata": {},
   "outputs": [],
   "source": [
    "dfd\n"
   ]
  },
  {
   "cell_type": "markdown",
   "id": "eba9b138",
   "metadata": {},
   "source": [
    "# Neet code 3 - contains duplicate"
   ]
  },
  {
   "cell_type": "code",
   "execution_count": 2,
   "id": "492f5f5f",
   "metadata": {},
   "outputs": [
    {
     "data": {
      "text/plain": [
       "True"
      ]
     },
     "execution_count": 2,
     "metadata": {},
     "output_type": "execute_result"
    }
   ],
   "source": [
    "def containsDuplicate(nums):\n",
    "    \n",
    "    hashset = set()\n",
    "    \n",
    "    for n in nums:\n",
    "        if n in hashset:\n",
    "            return True\n",
    "        hashset.add(n)\n",
    "    return False\n",
    "\n",
    "nums= [1,2,3,1]\n",
    "\n",
    "containsDuplicate(nums)"
   ]
  },
  {
   "cell_type": "markdown",
   "id": "185d8c2a",
   "metadata": {},
   "source": [
    "# Neet code 4 - Product of array except self"
   ]
  },
  {
   "cell_type": "code",
   "execution_count": 3,
   "id": "7ff85f7e",
   "metadata": {},
   "outputs": [
    {
     "data": {
      "text/plain": [
       "[24, 12, 8, 6]"
      ]
     },
     "execution_count": 3,
     "metadata": {},
     "output_type": "execute_result"
    }
   ],
   "source": [
    "def productExceptSelf(nums):\n",
    "    \n",
    "    res = [1]*len(nums)\n",
    "    \n",
    "    prefix = 1\n",
    "    for i in range(len(nums)):\n",
    "        res[i] = prefix\n",
    "        prefix *=nums[i]\n",
    "    postfix = 1 \n",
    "    for i in range(len(nums)-1,-1,-1):\n",
    "        res[i]*=postfix\n",
    "        postfix *=nums[i]\n",
    "    return res\n",
    "\n",
    "nums= [1,2,3,4]      \n",
    "productExceptSelf(nums)"
   ]
  },
  {
   "cell_type": "markdown",
   "id": "b9d089eb",
   "metadata": {},
   "source": [
    "# Neet code 5 - Maximum sum subarray"
   ]
  },
  {
   "cell_type": "code",
   "execution_count": 4,
   "id": "96a710e7",
   "metadata": {},
   "outputs": [
    {
     "data": {
      "text/plain": [
       "12"
      ]
     },
     "execution_count": 4,
     "metadata": {},
     "output_type": "execute_result"
    }
   ],
   "source": [
    "def maxsubarray(nums):\n",
    "    \n",
    "    maxsub = nums[0]\n",
    "    cursum = 0 \n",
    "    \n",
    "    for n in nums:\n",
    "        \n",
    "        if cursum <0:\n",
    "            cursum = 0\n",
    "        cursum +=n\n",
    "        \n",
    "        maxsub = max(maxsub, cursum)\n",
    "        \n",
    "    return maxsub\n",
    "\n",
    "\n",
    "maxsubarray([-1,-2,3,1,4,-1,5,-2])"
   ]
  },
  {
   "cell_type": "markdown",
   "id": "2aede76c",
   "metadata": {},
   "source": [
    "# Neet code 6 - Maximum product subarray"
   ]
  },
  {
   "cell_type": "code",
   "execution_count": 5,
   "id": "ad89dc04",
   "metadata": {},
   "outputs": [
    {
     "data": {
      "text/plain": [
       "24"
      ]
     },
     "execution_count": 5,
     "metadata": {},
     "output_type": "execute_result"
    }
   ],
   "source": [
    "def maxproductsubarray(nums):\n",
    "    \n",
    "    result = max(nums)\n",
    "    \n",
    "    curMax, curMin = 1,1 \n",
    "    \n",
    "    for n in nums:\n",
    "        \n",
    "        if n==0:\n",
    "            curMax, curMin = 1,1\n",
    "            continue \n",
    "        \n",
    "        curMax = max(n, n*curMax, n*curMin)\n",
    "        curMin = max(n, n*curMin, n*curMin)\n",
    "        \n",
    "        result = max(result,curMax)\n",
    "        \n",
    "    return result\n",
    " \n",
    "maxproductsubarray([1,-2,-3,4])\n",
    "        \n",
    "        "
   ]
  },
  {
   "cell_type": "markdown",
   "id": "5ada5c58",
   "metadata": {},
   "source": [
    "# Neet code 7 - two sum with sorted array II"
   ]
  },
  {
   "cell_type": "code",
   "execution_count": 6,
   "id": "fc776c08",
   "metadata": {},
   "outputs": [
    {
     "name": "stdout",
     "output_type": "stream",
     "text": [
      "0 3\n"
     ]
    },
    {
     "data": {
      "text/plain": [
       "(2, 4)"
      ]
     },
     "execution_count": 6,
     "metadata": {},
     "output_type": "execute_result"
    }
   ],
   "source": [
    "def twosumsorted(nums, target):\n",
    "    \n",
    "    l,r=0,len(nums)-1\n",
    "    print(l,r)\n",
    "    \n",
    "    \n",
    "    \n",
    "    while l<r:\n",
    "        current_sum = nums[l]+ nums[r]\n",
    "        \n",
    "        if current_sum> target:\n",
    "            r -=1\n",
    "            \n",
    "        elif current_sum< target:\n",
    "            l +=1\n",
    "            \n",
    "        else:\n",
    "            return(l+1,r+1)\n",
    "    \n",
    "    return \n",
    "        \n",
    "        \n",
    "        \n",
    "twosumsorted([1,2,3,9], 11)     "
   ]
  },
  {
   "cell_type": "markdown",
   "id": "8362cfa0",
   "metadata": {},
   "source": [
    "# Neet code 8 - Max water in the container"
   ]
  },
  {
   "cell_type": "code",
   "execution_count": 7,
   "id": "9ce4950d",
   "metadata": {},
   "outputs": [],
   "source": [
    "\n",
    "#brute force method\n",
    "\n",
    "def maxarea(height):\n",
    "    \n",
    "    result = 0\n",
    "    \n",
    "    for l in range(len(height)):\n",
    "        for r in range(l+1, len(height)):\n",
    "            \n",
    "            area= (r-l)*min(height[r],height[l])\n",
    "            result = max(area, result)\n",
    "            \n",
    "    return result\n",
    "\n",
    "\n",
    "    "
   ]
  },
  {
   "cell_type": "code",
   "execution_count": 8,
   "id": "23f08f52",
   "metadata": {},
   "outputs": [],
   "source": [
    "def maxarea(height):\n",
    "    result = 0\n",
    "    l,r = 0, len(height)-1\n",
    "    \n",
    "    while l<r:\n",
    "        \n",
    "        area = min(height[l],height[r])*(l-r)\n",
    "        \n",
    "        result = max(area, result)\n",
    "        \n",
    "        if height[l]<height[r]:\n",
    "            \n",
    "            l +=1\n",
    "            \n",
    "        else:\n",
    "            \n",
    "            r -=1\n",
    "            \n",
    "    return result\n",
    "        \n",
    "        \n",
    "        "
   ]
  },
  {
   "cell_type": "markdown",
   "id": "d2723da9",
   "metadata": {},
   "source": [
    "# Neet code 8 - Palindrome"
   ]
  },
  {
   "cell_type": "code",
   "execution_count": 9,
   "id": "c672ac5e",
   "metadata": {},
   "outputs": [
    {
     "data": {
      "text/plain": [
       "True"
      ]
     },
     "execution_count": 9,
     "metadata": {},
     "output_type": "execute_result"
    }
   ],
   "source": [
    "#https://www.youtube.com/watch?v=jJXJ16kPFWg\n",
    "\n",
    "def isPalindrome(s):\n",
    "    \n",
    "    newString= \"\"\n",
    "    \n",
    "    for c in s:\n",
    "        if c.isalnum():\n",
    "            newString += c.lower()\n",
    "    return newString == newString[::-1]\n",
    "    \n",
    "isPalindrome(\"ama ama\")\n"
   ]
  },
  {
   "cell_type": "code",
   "execution_count": 10,
   "id": "a1333e12",
   "metadata": {},
   "outputs": [
    {
     "data": {
      "text/plain": [
       "True"
      ]
     },
     "execution_count": 10,
     "metadata": {},
     "output_type": "execute_result"
    }
   ],
   "source": [
    "def alphaNum(c):\n",
    "    return(ord('A') <= ord(c) <= ord('Z') or\n",
    "           ord('a') <= ord(c) <= ord('z') or\n",
    "           ord('0') <= ord(c) <= ord('9'))\n",
    "\n",
    "def isPalindrome(s):\n",
    "    \n",
    "    l,r = 0, len(s)-1\n",
    "    \n",
    "    while l<r:\n",
    "        \n",
    "        while not alphaNum(s[l]):\n",
    "            l +=1\n",
    "        while not alphaNum(s[r]):\n",
    "            r -=1\n",
    "        if s[l].lower() !=s[r].lower():\n",
    "            return False\n",
    "        l,r=l+1,r-1\n",
    "        \n",
    "    return True\n",
    " \n",
    "isPalindrome('ama')\n",
    "            "
   ]
  },
  {
   "cell_type": "markdown",
   "id": "5463c0aa",
   "metadata": {},
   "source": [
    "# Neet code 9 - Trapping rain water"
   ]
  },
  {
   "cell_type": "code",
   "execution_count": 11,
   "id": "9d047252",
   "metadata": {},
   "outputs": [
    {
     "data": {
      "text/plain": [
       "6"
      ]
     },
     "execution_count": 11,
     "metadata": {},
     "output_type": "execute_result"
    }
   ],
   "source": [
    "def trap(height):\n",
    "    \n",
    "    if not height: \n",
    "        return 0\n",
    "    \n",
    "    l,r = 0, len(height)-1\n",
    "    \n",
    "    leftmax, rightmax = height[l],height[r]\n",
    "    res = 0\n",
    "    \n",
    "    while l<r:\n",
    "        \n",
    "        if leftmax < rightmax:\n",
    "            \n",
    "            l+=1\n",
    "            leftmax = max(leftmax, height[l])\n",
    "            res += leftmax-height[l]\n",
    "            \n",
    "        else:\n",
    "            r-=1\n",
    "            rightmax = max(rightmax,height[r])\n",
    "            res += rightmax-height[r]\n",
    "    \n",
    "    return res\n",
    "\n",
    "trap([0,1,0,2,1,0,1,3,2,1,2,1])"
   ]
  },
  {
   "cell_type": "markdown",
   "id": "47ba60db",
   "metadata": {},
   "source": [
    "# Neet code 10  - Arrays and hashing - Valid Anagram "
   ]
  },
  {
   "cell_type": "code",
   "execution_count": 12,
   "id": "62a959b2",
   "metadata": {},
   "outputs": [],
   "source": [
    "def isAnagram( s, t):\n",
    "    \n",
    "    if len(s) != len(t):\n",
    "        return False\n",
    "    \n",
    "    #return sorted(s) == sorted[t]\n",
    "    \n",
    "    #return Counter(s) == Counter(t) #hash functions to get the count of the keys\n",
    "\n",
    "\n",
    "\n",
    "    \n",
    "    countS,countT = {},{}\n",
    "    \n",
    "    for i in range(len(s)):\n",
    "        \n",
    "        countS[s[i]] = 1+countS.get(s[i],0)\n",
    "        countT[t[i]] = 1+countT.get(t[i],0)\n",
    "    for c in countS:\n",
    "        \n",
    "        if countS[c] != countT.get(c,0):\n",
    "            return False\n",
    "    \n",
    "    return True\n",
    "        \n",
    "        \n",
    "    \n",
    "        "
   ]
  },
  {
   "cell_type": "markdown",
   "id": "e4a10bc9",
   "metadata": {},
   "source": [
    "# Neet code 12  - Longest Repeating Character Replacement"
   ]
  },
  {
   "cell_type": "code",
   "execution_count": 13,
   "id": "27133505",
   "metadata": {},
   "outputs": [
    {
     "data": {
      "text/plain": [
       "4"
      ]
     },
     "execution_count": 13,
     "metadata": {},
     "output_type": "execute_result"
    }
   ],
   "source": [
    "def characterReplacement(s,k):\n",
    "    \n",
    "    count = {}\n",
    "    res =0\n",
    "    l=0\n",
    "    \n",
    "    for r in range(len(s)):\n",
    "        \n",
    "        count[s[r]] = 1+count.get(s[r],0)\n",
    "        \n",
    "        while (r-l+1) -max(count.values())>k:\n",
    "            count[s[l]] -= 1\n",
    "            l +=1\n",
    "        \n",
    "        res = max(res, r-l+1)\n",
    "        \n",
    "    return res\n",
    "\n",
    "characterReplacement('abdadvsds',2)"
   ]
  },
  {
   "cell_type": "markdown",
   "id": "a1eca92b",
   "metadata": {},
   "source": [
    "# Neet code 13  - Permutation in String - Leetcode 567 - Python"
   ]
  },
  {
   "cell_type": "code",
   "execution_count": 14,
   "id": "003e97cf",
   "metadata": {},
   "outputs": [
    {
     "ename": "IndentationError",
     "evalue": "expected an indented block (1511320443.py, line 10)",
     "output_type": "error",
     "traceback": [
      "\u001b[0;36m  File \u001b[0;32m\"/var/folders/rd/h5fc4nxd5132zthf5b9zfyl40000gn/T/ipykernel_2197/1511320443.py\"\u001b[0;36m, line \u001b[0;32m10\u001b[0m\n\u001b[0;31m    \u001b[0m\n\u001b[0m    ^\u001b[0m\n\u001b[0;31mIndentationError\u001b[0m\u001b[0;31m:\u001b[0m expected an indented block\n"
     ]
    }
   ],
   "source": [
    "def checkInclusion(s1, s2):\n",
    "    \n",
    "    if len(s1)>len(s2): return False\n",
    "    \n",
    "    s1Count, s2Count = [0]*26, [0]*26\n",
    "    \n",
    "    for i in range(len(s1)):\n",
    "        \n",
    "        \n",
    "    "
   ]
  },
  {
   "cell_type": "markdown",
   "id": "94ac7f00",
   "metadata": {},
   "source": [
    "# Neet code 14  - Sliding Window Maximum - Monotonic Queue - Leetcode 239"
   ]
  },
  {
   "cell_type": "code",
   "execution_count": null,
   "id": "8d2e5dcc",
   "metadata": {},
   "outputs": [
    {
     "data": {
      "text/plain": [
       "[]"
      ]
     },
     "execution_count": 30,
     "metadata": {},
     "output_type": "execute_result"
    }
   ],
   "source": [
    "from collections import deque\n",
    "\n",
    "def maxSlidingWindow(nums, k):\n",
    "    \n",
    "    output = []\n",
    "    \n",
    "    q = deque()\n",
    "    l = r = 0\n",
    "    \n",
    "    while r<len(nums):\n",
    "        \n",
    "        while q and nums[q[-1]] < nums[r]:\n",
    "            q.pop()\n",
    "        q.append(r)\n",
    "        \n",
    "        if l>q[0]:\n",
    "            q.popleft()\n",
    "            \n",
    "        if (r+1)>=k:\n",
    "            output.append(nums[q[0]])\n",
    "            \n",
    "            l +=1\n",
    "        r +=1\n",
    "        \n",
    "        return output\n",
    "    \n",
    "maxSlidingWindow([8,9,5,6], 2)"
   ]
  },
  {
   "cell_type": "code",
   "execution_count": null,
   "id": "0eb95024",
   "metadata": {},
   "outputs": [
    {
     "name": "stdout",
     "output_type": "stream",
     "text": [
      "[5, 3]\n",
      "2\n",
      "3\n",
      "False\n",
      "5\n",
      "True\n",
      "9\n",
      "3\n",
      "4\n",
      "8\n"
     ]
    }
   ],
   "source": [
    "class StacksArray:\n",
    "\n",
    "    def __init__(self):\n",
    "        self._data = []\n",
    "\n",
    "    def __len__(self):\n",
    "        return len(self._data)\n",
    "\n",
    "    def isempty(self):\n",
    "        return len(self._data) == 0\n",
    "\n",
    "    def push(self, e):\n",
    "        self._data.append(e)\n",
    "\n",
    "    def pop(self):\n",
    "        if self.isempty():\n",
    "            print('Stack is empty')\n",
    "            return\n",
    "        return self._data.pop()\n",
    "\n",
    "    def top(self):\n",
    "        if self.isempty():\n",
    "            print('Stack is empty')\n",
    "            return\n",
    "        return self._data[-1]\n",
    "\n",
    "S = StacksArray()\n",
    "S.push(5)\n",
    "S.push(3)\n",
    "print(S._data)\n",
    "print(len(S))\n",
    "print(S.pop())\n",
    "print(S.isempty())\n",
    "print(S.pop())\n",
    "print(S.isempty())\n",
    "S.push(7)\n",
    "S.push(9)\n",
    "print(S.top())\n",
    "S.push(4)\n",
    "print(len(S))\n",
    "print(S.pop())\n",
    "S.push(6)\n",
    "S.push(8)\n",
    "print(S.pop())\n"
   ]
  },
  {
   "cell_type": "code",
   "execution_count": null,
   "id": "0499b9e0",
   "metadata": {},
   "outputs": [],
   "source": [
    "a = 1\n",
    "b = 2"
   ]
  },
  {
   "cell_type": "code",
   "execution_count": null,
   "id": "88d6c307",
   "metadata": {},
   "outputs": [
    {
     "data": {
      "text/plain": [
       "False"
      ]
     },
     "execution_count": 34,
     "metadata": {},
     "output_type": "execute_result"
    }
   ],
   "source": [
    "a == b\n",
    "\n",
    "#__eq__"
   ]
  },
  {
   "cell_type": "code",
   "execution_count": null,
   "id": "4f66dd02",
   "metadata": {},
   "outputs": [
    {
     "data": {
      "text/plain": [
       "1"
      ]
     },
     "execution_count": 42,
     "metadata": {},
     "output_type": "execute_result"
    }
   ],
   "source": [
    "a"
   ]
  },
  {
   "cell_type": "code",
   "execution_count": null,
   "id": "d1fd7dc9",
   "metadata": {},
   "outputs": [
    {
     "data": {
      "text/plain": [
       "True"
      ]
     },
     "execution_count": 35,
     "metadata": {},
     "output_type": "execute_result"
    }
   ],
   "source": [
    " a < b\n",
    "## __leq__"
   ]
  },
  {
   "cell_type": "code",
   "execution_count": null,
   "id": "a83c7a5d",
   "metadata": {},
   "outputs": [],
   "source": [
    "class PrimeObjectList(object):\n",
    "    \n",
    "    \n",
    "    def __init__(self, k):\n",
    "        self._d = 2\n",
    "        self.k  = k \n",
    "        self.get_k_primes()\n",
    "        \n",
    "    def __str__(self):\n",
    "        \n",
    "        return str(self._d)\n",
    "    \n",
    "    def __len__(self):\n",
    "        return 5\n",
    "    \n",
    "    def get_num_divisors(self, num):\n",
    "        count = 0\n",
    "        for i in range(1,num+1):\n",
    "            if num % i == 0:\n",
    "                count +=1\n",
    "        \n",
    "        if count == 2: \n",
    "            return (count,True)\n",
    "        else: \n",
    "            return (count,False)\n",
    "                \n",
    "        \n",
    "    \n",
    "    def get_k_primes(self):\n",
    "        i = 1\n",
    "        prime_list = []\n",
    "        while(True):\n",
    "            bool_check = self.get_num_divisors(i)\n",
    "            if bool_check[1]:\n",
    "                prime_list+=[i]\n",
    "            i+=1\n",
    "            if len(prime_list) == self.k:\n",
    "                break\n",
    "                \n",
    "        self.prime_list = prime_list\n",
    "         \n",
    "    \n",
    "    \n",
    "                \n",
    "    \n",
    "                \n",
    "    \n",
    "    \n",
    "    \n",
    "        \n",
    "        \n",
    "        "
   ]
  },
  {
   "cell_type": "code",
   "execution_count": null,
   "id": "63875bbb",
   "metadata": {},
   "outputs": [],
   "source": [
    "p_obj = PrimeObjectList(k=10)\n"
   ]
  },
  {
   "cell_type": "code",
   "execution_count": null,
   "id": "7d424852",
   "metadata": {},
   "outputs": [],
   "source": []
  },
  {
   "cell_type": "code",
   "execution_count": null,
   "id": "6ca8459d",
   "metadata": {},
   "outputs": [],
   "source": []
  },
  {
   "cell_type": "code",
   "execution_count": null,
   "id": "5bc7027b",
   "metadata": {},
   "outputs": [
    {
     "data": {
      "text/plain": [
       "False"
      ]
     },
     "execution_count": 120,
     "metadata": {},
     "output_type": "execute_result"
    }
   ],
   "source": [
    "def isValid(s):\n",
    "    \n",
    "    stack =[]\n",
    "    clostToOpen = {\")\":\"(\", \"]\":\"[\", \"}\":\"{\"}\n",
    "    \n",
    "    for c in s:\n",
    "        \n",
    "        if c in clostToOpen:\n",
    "            if stack and stack[-1] == colseToOpen[c]:\n",
    "                stack.pop()\n",
    "            \n",
    "            else:\n",
    "                return False\n",
    "            \n",
    "    return True if not stack else False\n",
    "\n",
    "s = '{}()'\n",
    "isValid(s)"
   ]
  },
  {
   "cell_type": "code",
   "execution_count": null,
   "id": "cad79e25",
   "metadata": {},
   "outputs": [],
   "source": [
    "for c in s:\n",
    "            if c not in Map:\n",
    "                stack.append(c)\n",
    "                continue    \n",
    "            if not stack or stack[-1] != Map[c]:\n",
    "                return False\n",
    "            stack.pop()\n",
    "            \n",
    "        return not stack"
   ]
  },
  {
   "cell_type": "code",
   "execution_count": null,
   "id": "28159881",
   "metadata": {},
   "outputs": [
    {
     "data": {
      "text/plain": [
       "False"
      ]
     },
     "execution_count": 142,
     "metadata": {},
     "output_type": "execute_result"
    }
   ],
   "source": [
    "class Solution:\n",
    "    def isValid(self, s: str) -> bool:\n",
    "        Map = { \")\":\"(\", \"]\":\"[\", \"}\":\"{\" }\n",
    "        stack = []\n",
    "        \n",
    "        for c in s:\n",
    "            if c in Map:\n",
    "                stack.append(c)\n",
    "                continue    \n",
    "            if stack and stack[-1] == Map[c]:\n",
    "                stack.pop()\n",
    "            \n",
    "            return stack == []\n",
    "            \n",
    "            \n",
    "        return stack == []\n",
    "    \n",
    "isValid(\"()\")"
   ]
  },
  {
   "cell_type": "markdown",
   "id": "8c049090",
   "metadata": {},
   "source": [
    "# Neet code 14  - Design Min Stack - Amazon Interview Question - Leetcode 155 - Python"
   ]
  },
  {
   "cell_type": "code",
   "execution_count": null,
   "id": "1938f3dc",
   "metadata": {},
   "outputs": [],
   "source": [
    "class MinStack:\n",
    "    \n",
    "    def __init__(self):\n",
    "        self.stack = []\n",
    "        self.minStack = []\n",
    "        \n",
    "    def push(self, val):\n",
    "        \n",
    "        self.stack.append(val)\n",
    "        val = min(val, self.minStack[-1] if self.minStack else val)\n",
    "        self.minStack.append(val)\n",
    "    \n",
    "    def pop(self):\n",
    "        self.stack.pop()\n",
    "        self.minStack.pop()\n",
    "        \n",
    "    def top(self):\n",
    "        return self.stack[-1]\n",
    "    \n",
    "    def getMin(self):\n",
    "        return self.minStack[-1]\n",
    "        "
   ]
  },
  {
   "cell_type": "markdown",
   "id": "9ccdc208",
   "metadata": {},
   "source": [
    "# Neet code 15  - Evaluate Reverse Polish Notation - Leetcode 150 - Python"
   ]
  },
  {
   "cell_type": "code",
   "execution_count": null,
   "id": "7cae2c28",
   "metadata": {},
   "outputs": [
    {
     "ename": "NameError",
     "evalue": "name 'evalRPN' is not defined",
     "output_type": "error",
     "traceback": [
      "\u001b[0;31m---------------------------------------------------------------------------\u001b[0m",
      "\u001b[0;31mNameError\u001b[0m                                 Traceback (most recent call last)",
      "\u001b[0;32m/var/folders/rd/h5fc4nxd5132zthf5b9zfyl40000gn/T/ipykernel_1068/1366878253.py\u001b[0m in \u001b[0;36m<module>\u001b[0;34m\u001b[0m\n\u001b[1;32m     26\u001b[0m         \u001b[0;32mreturn\u001b[0m \u001b[0mstack\u001b[0m\u001b[0;34m[\u001b[0m\u001b[0;36m0\u001b[0m\u001b[0;34m]\u001b[0m\u001b[0;34m\u001b[0m\u001b[0;34m\u001b[0m\u001b[0m\n\u001b[1;32m     27\u001b[0m \u001b[0;34m\u001b[0m\u001b[0m\n\u001b[0;32m---> 28\u001b[0;31m \u001b[0mevalRPN\u001b[0m\u001b[0;34m(\u001b[0m\u001b[0;34m[\u001b[0m\u001b[0;34m\"2\"\u001b[0m\u001b[0;34m,\u001b[0m\u001b[0;34m\"1\"\u001b[0m\u001b[0;34m,\u001b[0m\u001b[0;34m\"+\"\u001b[0m\u001b[0;34m,\u001b[0m\u001b[0;34m\"3\"\u001b[0m\u001b[0;34m,\u001b[0m\u001b[0;34m\"*\"\u001b[0m\u001b[0;34m]\u001b[0m\u001b[0;34m)\u001b[0m\u001b[0;34m\u001b[0m\u001b[0;34m\u001b[0m\u001b[0m\n\u001b[0m\u001b[1;32m     29\u001b[0m \u001b[0;34m\u001b[0m\u001b[0m\n\u001b[1;32m     30\u001b[0m \u001b[0;34m\u001b[0m\u001b[0m\n",
      "\u001b[0;31mNameError\u001b[0m: name 'evalRPN' is not defined"
     ]
    }
   ],
   "source": [
    "class Solution:\n",
    "    \n",
    "    def evalRPN(self, tokens):\n",
    "        \n",
    "        stack = []\n",
    "        \n",
    "        for c in tokens:\n",
    "            \n",
    "            if c == \"+\":\n",
    "                stack.append(stack.pop()+stack.pop())\n",
    "            elif c == \"-\":\n",
    "                a,b = stack.pop(),stack.pop()\n",
    "                stack.append(b-a)\n",
    "                \n",
    "            elif c == \"/\":\n",
    "                a,b = stack.pop(),stack.pop()\n",
    "                stack.append(b/a)\n",
    "            \n",
    "            elif c == \"*\":\n",
    "                stack.append(stack.pop()*stack.pop())\n",
    "                \n",
    "            else:\n",
    "                stack.append(int(c))\n",
    "                \n",
    "        \n",
    "        return stack[0]\n",
    "            \n",
    "evalRPN([\"2\",\"1\",\"+\",\"3\",\"*\"])\n",
    "                \n",
    "                \n",
    "                \n",
    "                \n",
    "                  "
   ]
  },
  {
   "cell_type": "code",
   "execution_count": null,
   "id": "a0b10ac7",
   "metadata": {},
   "outputs": [
    {
     "data": {
      "text/plain": [
       "9"
      ]
     },
     "execution_count": 149,
     "metadata": {},
     "output_type": "execute_result"
    }
   ],
   "source": [
    "def evalRPN( tokens):\n",
    "        \n",
    "        stack = []\n",
    "        \n",
    "        for c in tokens:\n",
    "            \n",
    "            if c == \"+\":\n",
    "                stack.append(stack.pop()+stack.pop())\n",
    "            elif c == \"-\":\n",
    "                a,b = stack.pop(),stack.pop()\n",
    "                stack.append(b-a)\n",
    "                \n",
    "            elif c == \"/\":\n",
    "                a,b = stack.pop(),stack.pop()\n",
    "                stack.append(b/a)\n",
    "            \n",
    "            elif c == \"*\":\n",
    "                stack.append(stack.pop()*stack.pop())\n",
    "                \n",
    "            else:\n",
    "                stack.append(int(c))\n",
    "                \n",
    "        \n",
    "        return stack[0]\n",
    "    \n",
    "evalRPN([\"2\",\"1\",\"+\",\"3\",\"*\"])"
   ]
  },
  {
   "cell_type": "markdown",
   "id": "0ac16c52",
   "metadata": {},
   "source": [
    "# Neet code 15  - Generate Parentheses - Stack - Leetcode 22"
   ]
  },
  {
   "cell_type": "code",
   "execution_count": null,
   "id": "34a81d50",
   "metadata": {},
   "outputs": [
    {
     "data": {
      "text/plain": [
       "['(((())))',\n",
       " '((()()))',\n",
       " '((())())',\n",
       " '((()))()',\n",
       " '(()(()))',\n",
       " '(()()())',\n",
       " '(()())()',\n",
       " '(())(())',\n",
       " '(())()()',\n",
       " '()((()))',\n",
       " '()(()())',\n",
       " '()(())()',\n",
       " '()()(())',\n",
       " '()()()()']"
      ]
     },
     "execution_count": 155,
     "metadata": {},
     "output_type": "execute_result"
    }
   ],
   "source": [
    "def generateParenthesis(n):\n",
    "    \n",
    "    stack =[]\n",
    "    res   =[]\n",
    "    \n",
    "    def backtrack(openN,closedN):\n",
    "        \n",
    "        if openN ==closedN==n:\n",
    "            res.append(\"\".join(stack))\n",
    "            return\n",
    "        \n",
    "        if openN <n :\n",
    "            stack.append(\"(\")\n",
    "            backtrack(openN+1,closedN)\n",
    "            stack.pop()\n",
    "            \n",
    "        if closedN<openN:\n",
    "            \n",
    "            stack.append(\")\")\n",
    "            backtrack(openN,closedN+1)\n",
    "            stack.pop()\n",
    "            \n",
    "    backtrack(0,0)\n",
    "    return res\n",
    "\n",
    "generateParenthesis(4)"
   ]
  },
  {
   "cell_type": "markdown",
   "id": "8f5c7b3d",
   "metadata": {},
   "source": [
    "# Neet code 16  - Daily Temperatures - Monotonic Stack - Leetcode 739 - Python"
   ]
  },
  {
   "cell_type": "code",
   "execution_count": null,
   "id": "0b146bca",
   "metadata": {},
   "outputs": [
    {
     "data": {
      "text/plain": [
       "[1, 1, 4, 2, 1, 1, 0, 0]"
      ]
     },
     "execution_count": 158,
     "metadata": {},
     "output_type": "execute_result"
    }
   ],
   "source": [
    "def dailyTemperatures(temperatures):\n",
    "    \n",
    "    res = [0]*len(temperatures)\n",
    "    stack = []\n",
    "    \n",
    "    \n",
    "    for i,t in enumerate(temperatures):\n",
    "        \n",
    "        while stack and t>stack[-1][0]:\n",
    "            \n",
    "            stackT, stackInd = stack.pop()\n",
    "            \n",
    "            res[stackInd] = (i-stackInd)\n",
    "        \n",
    "        \n",
    "        stack.append([t,i])\n",
    "    \n",
    "    return res\n",
    "\n",
    "dailyTemperatures([73,74,75,71,69,72,76,73])"
   ]
  },
  {
   "cell_type": "markdown",
   "id": "229dede5",
   "metadata": {},
   "source": [
    "# Neet code 17  - Car Fleet - Leetcode 853 - Python\n"
   ]
  },
  {
   "cell_type": "code",
   "execution_count": null,
   "id": "a5018c84",
   "metadata": {},
   "outputs": [
    {
     "data": {
      "text/plain": [
       "3"
      ]
     },
     "execution_count": 160,
     "metadata": {},
     "output_type": "execute_result"
    }
   ],
   "source": [
    "def carFleet(target, position, speed):\n",
    "    \n",
    "    \n",
    "    pair = [[p,s] for p , s in zip(position, speed)]\n",
    "    \n",
    "    stack = []\n",
    "    for p, s in sorted(pair)[::-1]:\n",
    "        stack.append((target-p)/s)\n",
    "        if len(stack)>=2 and stack[-1]<= stack[-2]:\n",
    "            stack.pop()\n",
    "            \n",
    "    return len(stack)\n",
    "        \n",
    "carFleet(12, [10,8,0,5,3],[2,4,1,1,3])\n",
    "    "
   ]
  },
  {
   "cell_type": "markdown",
   "id": "ab70d703",
   "metadata": {},
   "source": [
    "# Neet code 18  - LARGEST RECTANGLE IN HISTOGRAM - Leetcode 84 - Python"
   ]
  },
  {
   "cell_type": "code",
   "execution_count": null,
   "id": "f9c7ce0c",
   "metadata": {},
   "outputs": [
    {
     "data": {
      "text/plain": [
       "12"
      ]
     },
     "execution_count": 166,
     "metadata": {},
     "output_type": "execute_result"
    }
   ],
   "source": [
    "def largestRectangleArea(heights):\n",
    "    maxArea = 0 \n",
    "    stack = []\n",
    "    \n",
    "    for i,h in enumerate(heights):\n",
    "        start =i\n",
    "        \n",
    "        while stack and stack[-1][1]>h:\n",
    "            index, height = stack.pop()\n",
    "            maxArea = max(maxArea, height*(i-index))\n",
    "            \n",
    "            start = index\n",
    "        stack.append((start,h))\n",
    "        \n",
    "        for i,h in stack:\n",
    "            maxArea =max(maxArea,h*(len(heights)-i))\n",
    "        return maxArea\n",
    "\n",
    "\n",
    "largestRectangleArea([2,1,5,6,2,3])\n",
    "                         "
   ]
  },
  {
   "cell_type": "markdown",
   "id": "bc82dd22",
   "metadata": {},
   "source": [
    "# Neet code 19  - Binary Search - Leetcode 704 - Python"
   ]
  },
  {
   "cell_type": "code",
   "execution_count": null,
   "id": "9f84c275",
   "metadata": {},
   "outputs": [],
   "source": [
    "def binarysearch(nums, target):\n",
    "    \n",
    "    l,r=0, len(nums)-1\n",
    "    \n",
    "    while l<=r:\n",
    "        \n",
    "        m = 1+((r-l)//2)\n",
    "        if nums[m]>target:\n",
    "            r = m-1\n",
    "        elif nums[m]<target:\n",
    "            l = m+1\n",
    "        else:\n",
    "            return m\n",
    "    \n",
    "    return -1"
   ]
  },
  {
   "cell_type": "markdown",
   "id": "79778308",
   "metadata": {},
   "source": [
    "# Neet code 20  - Search a 2D Matrix - Leetcode 74 - Python"
   ]
  },
  {
   "cell_type": "code",
   "execution_count": null,
   "id": "b6c02bed",
   "metadata": {},
   "outputs": [
    {
     "data": {
      "text/plain": [
       "False"
      ]
     },
     "execution_count": 8,
     "metadata": {},
     "output_type": "execute_result"
    }
   ],
   "source": [
    "def searchMatrix(matrix,target):\n",
    "    \n",
    "    \n",
    "    ROWS, COLS = len(matrix), len(matrix[0])\n",
    "    \n",
    "    top, bot = 0, ROWS-1\n",
    "    \n",
    "    while top <=bot:\n",
    "        \n",
    "        row = (top+bot)//2\n",
    "        \n",
    "        if target > matrix[row][-1]:\n",
    "            \n",
    "            top = row + 1\n",
    "            \n",
    "        elif target < matrix[row][0]:\n",
    "            \n",
    "            bot = row -1 \n",
    "            \n",
    "        else:\n",
    "            break\n",
    "            \n",
    "    if not (top <= bot):\n",
    "        \n",
    "        return False\n",
    "    \n",
    "    row = (top+bot)//2\n",
    "    l,r = 0, COLS -1\n",
    "    \n",
    "    while l<=r:\n",
    "        m=(l+r)//2\n",
    "        \n",
    "        if target>matrix[row][m]:\n",
    "            l = m+1\n",
    "            \n",
    "        elif target > matrix[row][m]:\n",
    "            r = m-1\n",
    "            \n",
    "        else:\n",
    "            return True\n",
    "    return False\n",
    "        \n",
    "\n",
    "        \n",
    "    \n",
    "matrix = [[1,3,5,7],[10,11,16,20],[23,30,34,60]]\n",
    "target = 100   \n",
    "        \n",
    "        \n",
    "searchMatrix(matrix,target)        \n",
    "        "
   ]
  },
  {
   "cell_type": "markdown",
   "id": "14f35985",
   "metadata": {},
   "source": [
    "# Neet code 21  - Koko Eating Bananas - Binary Search - Leetcode 875 - Python"
   ]
  },
  {
   "cell_type": "code",
   "execution_count": null,
   "id": "bf476faf",
   "metadata": {},
   "outputs": [
    {
     "data": {
      "text/plain": [
       "4"
      ]
     },
     "execution_count": 11,
     "metadata": {},
     "output_type": "execute_result"
    }
   ],
   "source": [
    "\n",
    "import math\n",
    "\n",
    "def minEatingSpeed(piles, h):\n",
    "    \n",
    "    l,r = 0 ,max(piles)\n",
    "    \n",
    "    result = r \n",
    "    \n",
    "    while l<=r:       \n",
    "        k = (l+r)//2        \n",
    "        speed =0 \n",
    "        for p in piles:\n",
    "            speed += math.ceil(p)/k\n",
    "            \n",
    "        if speed <= h:\n",
    "            result = min(result,k)\n",
    "            r=k-1\n",
    "        else:\n",
    "            l=k+1\n",
    "            \n",
    "    return result\n",
    "            \n",
    "minEatingSpeed([3,6,7,11],8)            "
   ]
  },
  {
   "cell_type": "markdown",
   "id": "2af89fa2",
   "metadata": {},
   "source": [
    "# Neet code 22  - Koko Eating Bananas - Binary Search - Leetcode 875 - Python"
   ]
  },
  {
   "cell_type": "code",
   "execution_count": null,
   "id": "36162bb2",
   "metadata": {},
   "outputs": [],
   "source": [
    "def search(nums, target):\n",
    "    \n",
    "    l,r=0,len(nums)-1\n",
    "    \n",
    "    while l<=r:\n",
    "        \n",
    "        mid = (l+r)//2\n",
    "        if target == nums[mid]:\n",
    "            return mid \n",
    "        \n",
    "        #left sorted portion\n",
    "        if nums[l]<= nums[mid]:\n",
    "            \n",
    "            if target > nums[mid] and target <num[l]:\n",
    "                l = mid +1\n",
    "            elif target < nums[l]:\n",
    "                l = mid+1\n",
    "            else:\n",
    "                r - mid-1\n",
    "        else:\n",
    "            if target <nums[mid]:\n",
    "                r =mid-1\n",
    "            elif target >num[r]:\n",
    "                r = mid -1\n",
    "            else:\n",
    "                l = mid +1\n",
    "        \n",
    "        \n",
    "    return -1\n",
    "                \n",
    "                \n",
    "            "
   ]
  },
  {
   "cell_type": "markdown",
   "id": "4993a401",
   "metadata": {},
   "source": [
    "# Neet code 23  - Find Minimum in Rotated Sorted Array - Binary Search - Leetcode 153 - Pythonn"
   ]
  },
  {
   "cell_type": "code",
   "execution_count": null,
   "id": "74901d5a",
   "metadata": {},
   "outputs": [
    {
     "data": {
      "text/plain": [
       "0"
      ]
     },
     "execution_count": 16,
     "metadata": {},
     "output_type": "execute_result"
    }
   ],
   "source": [
    "def findMin(nums):\n",
    "    \n",
    "    res = nums[0] \n",
    "    l,r = 0, len(nums)-1\n",
    "    \n",
    "    \n",
    "    while l<=r:\n",
    "        \n",
    "        if nums[l]< nums[r]:\n",
    "            res = min(res, nums[l])\n",
    "            break\n",
    "            \n",
    "        \n",
    "        m = (l+r)//2\n",
    "        \n",
    "        res = min(res, nums[m])\n",
    "        if nums[m]>= nums[l]:\n",
    "            l = m+1\n",
    "        else:\n",
    "            r=m-1\n",
    "    return res\n",
    "        \n",
    "        \n",
    "nums = [4,5,6,7,0,1,2]       \n",
    "findMin(nums)           "
   ]
  },
  {
   "cell_type": "markdown",
   "id": "abc73503",
   "metadata": {},
   "source": [
    "# Neet code 24  - Find Minimum in Rotated Sorted Array - Binary Search - Leetcode 153 - Pythonn"
   ]
  },
  {
   "cell_type": "code",
   "execution_count": null,
   "id": "a20a935d",
   "metadata": {},
   "outputs": [],
   "source": [
    "class TimeMap:\n",
    "    \n",
    "    def __init__(self):\n",
    "        self.store = {} #key:list of [val, timestamp]\n",
    "        \n",
    "    def set(self, key, value, timestamp):\n",
    "        \n",
    "        if key not in self.store:\n",
    "            self.store[key]=[]\n",
    "        self.store[key].append([value,timestamp])\n",
    "        \n",
    "    def get(self, key,timestamp):\n",
    "        res= ''\n",
    "        values = self.store.get(key,[])\n",
    "        \n",
    "        l,r =0 ,len(values)-1\n",
    "        \n",
    "        while l<=r:\n",
    "            \n",
    "            m = (l+r)//2\n",
    "            \n",
    "            if values[m][1] <= timestamp:\n",
    "                res =values[m][0]\n",
    "                \n",
    "                l=m+1\n",
    "            else:\n",
    "                r= m-1\n",
    "        return res\n",
    "        \n",
    "    "
   ]
  },
  {
   "cell_type": "markdown",
   "id": "aa5164e2",
   "metadata": {},
   "source": [
    "# Neet code 25  - linkedlist\n"
   ]
  },
  {
   "cell_type": "code",
   "execution_count": null,
   "id": "5d9d9a4c",
   "metadata": {},
   "outputs": [],
   "source": [
    "class ListNode:\n",
    "    \n",
    "    def __init__(self, val,next= None):\n",
    "        \n",
    "        self.val = val \n",
    "        self.next = \n",
    "\n",
    "\n",
    "\n",
    "\n",
    "\n",
    "def mergeTwoLists(l1,l2):\n",
    "    \n",
    "    dummy = ListNode()\n",
    "    tail  = dummy\n",
    "    \n",
    "    \n",
    "    while l1 and l2:\n",
    "        \n",
    "        if l1.val < l2.val:\n",
    "            tail.next = l1\n",
    "            l1 = l1.next\n",
    "            \n",
    "        else:\n",
    "            tail.next = l2 \n",
    "            l2 = l2.next \n",
    "            \n",
    "    if l1:\n",
    "        \n",
    "        tail.next = l1 \n",
    "        \n",
    "    elif l2:\n",
    "        \n",
    "        tail.next =l2 \n",
    "        \n",
    "        \n",
    "    return dummy.next\n",
    "        "
   ]
  },
  {
   "cell_type": "markdown",
   "id": "f1745799",
   "metadata": {},
   "source": [
    "# Neet code 26  - linkedlist - reorder list"
   ]
  },
  {
   "cell_type": "code",
   "execution_count": null,
   "id": "85b0cee4",
   "metadata": {},
   "outputs": [],
   "source": [
    "def reorderList(head):\n",
    "    \n",
    "    slow, fast = head, head.next \n",
    "    \n",
    "    #finding the midpoint \n",
    "    while fast.next:\n",
    "        \n",
    "        slow=slow.next\n",
    "        fast = fast.next.next\n",
    "     \n",
    "    #assigning the first end to null \n",
    "    #second which is slow.next\n",
    "    #initiating prev in second to null \n",
    "    \n",
    "    second = slow.next \n",
    "    prev = None\n",
    "    slow.next = None\n",
    "    \n",
    "    #reversing the second array\n",
    "    while second:\n",
    "        \n",
    "        temp = second.next \n",
    "        second.next = prev\n",
    "        prev = second \n",
    "        second = temp\n",
    "        \n",
    "    #merging the two linkedlists\n",
    "    first, second = head, prev\n",
    "    \n",
    "    while second:\n",
    "        \n",
    "        tmp1,tmp2= first.next, second.next\n",
    "        \n",
    "        first.next = second\n",
    "        second.next = tmp1\n",
    "        \n",
    "        first, second = tmp1,tmp2\n",
    "        \n",
    "        \n",
    "    \n",
    "    \n",
    "    \n",
    "        \n",
    "        \n",
    "        \n",
    "        "
   ]
  },
  {
   "cell_type": "markdown",
   "id": "94f7a4e6",
   "metadata": {},
   "source": [
    "# Neet code 27  - Remove Nth Node from End of List - Oracle Interview Question - Leetcode 19"
   ]
  },
  {
   "cell_type": "code",
   "execution_count": null,
   "id": "f46ec3df",
   "metadata": {},
   "outputs": [],
   "source": [
    "def removeNthFromEnd(head, n):\n",
    "    dummy = ListNode(0,head)\n",
    "    left = dummy\n",
    "    right = head\n",
    "    \n",
    "    #shifting n numbers of the right pointer\n",
    "    while n>0 and right:\n",
    "        right = right.next\n",
    "        n -=1\n",
    "    #swifting both right and left pointers at a time\n",
    "    while right:\n",
    "        \n",
    "        left = left.next\n",
    "        right =right.next\n",
    "        \n",
    "    \n",
    "    #deleting the requied node \n",
    "    left.next = left.next.next\n",
    "    \n",
    "    return dummy.next \n",
    "\n",
    "    \n",
    "        \n",
    "    \n",
    "        \n",
    "    "
   ]
  },
  {
   "cell_type": "markdown",
   "id": "cce246a7",
   "metadata": {},
   "source": [
    "# Neet code 27  - Copy List with Random Pointer - Linked List - Leetcode 138"
   ]
  },
  {
   "cell_type": "code",
   "execution_count": null,
   "id": "36acc8c3",
   "metadata": {},
   "outputs": [
    {
     "ename": "SyntaxError",
     "evalue": "invalid syntax (206865017.py, line 1)",
     "output_type": "error",
     "traceback": [
      "\u001b[0;36m  File \u001b[0;32m\"/var/folders/rd/h5fc4nxd5132zthf5b9zfyl40000gn/T/ipykernel_4409/206865017.py\"\u001b[0;36m, line \u001b[0;32m1\u001b[0m\n\u001b[0;31m    def copyRandomList:\u001b[0m\n\u001b[0m                      ^\u001b[0m\n\u001b[0;31mSyntaxError\u001b[0m\u001b[0;31m:\u001b[0m invalid syntax\n"
     ]
    }
   ],
   "source": [
    "def copyRandomList(head):\n",
    "    \n",
    "    oldToCopy={None:None}\n",
    "    \n",
    "    curr = head\n",
    "    while curr:\n",
    "        copy = Node(curr.val)\n",
    "        oldToCopy[curr]= copy \n",
    "        curr = curr.head\n",
    "    \n",
    "    curr = head \n",
    "    while curr:\n",
    "        \n",
    "        copy = oldToCopy[curr]\n",
    "        copy.next = oldToCopy[curr.next]\n",
    "        copy.random = oldToCopy[curr.random]\n",
    "        curr = curr.next\n",
    "        \n",
    "        \n",
    "    \n",
    "    return old\n",
    "    "
   ]
  },
  {
   "cell_type": "markdown",
   "id": "a6453a25",
   "metadata": {},
   "source": [
    "# # Neet code 28  - Add Two Numbers - Leetcode 2 - Python\n"
   ]
  },
  {
   "cell_type": "code",
   "execution_count": null,
   "id": "ea333831",
   "metadata": {},
   "outputs": [],
   "source": [
    "def addTwoNumbers(l1,l2):\n",
    "    \n",
    "    dummy = ListNode()\n",
    "    cur = dummy\n",
    "    \n",
    "    \n",
    "    carry =0\n",
    "    while l1 or l2:\n",
    "        v1 = l1.val if l1 else 0\n",
    "        v2 = l2.val if l2 else 0 \n",
    "        \n",
    "        val = v1 + v2 + carry \n",
    "        carry = val//10\n",
    "        val = val %10\n",
    "        cur.next = ListNode(val)\n",
    "        \n",
    "        cur = cur.next \n",
    "        l1=l1.next if l1 else None\n",
    "        l2 = l2.next if l2 else None \n",
    "        \n",
    "    return dummy.next\n",
    "        \n",
    "        \n",
    "        \n",
    "        \n",
    "        \n",
    "        \n",
    "        \n",
    "        \n",
    "        \n",
    "        \n",
    "    "
   ]
  },
  {
   "cell_type": "markdown",
   "id": "fea1adb5",
   "metadata": {},
   "source": [
    "# # Neet code 29  - Linked List Cycle - Floyd's Tortoise and Hare - Leetcode 141 - Python"
   ]
  },
  {
   "cell_type": "code",
   "execution_count": null,
   "id": "3a74b1a5",
   "metadata": {},
   "outputs": [],
   "source": [
    "def hasCycle(head):\n",
    "    slow,fast = head,head\n",
    "    \n",
    "    while fast and fast.next:\n",
    "        slow = slow.next\n",
    "        fast = fast.next.next\n",
    "        if slow==fast:\n",
    "            return True \n",
    "    return False"
   ]
  },
  {
   "cell_type": "markdown",
   "id": "c8e817d3",
   "metadata": {},
   "source": [
    "# # Neet code 30  - Merge K Sorted Lists - Leetcode 23 - Python"
   ]
  },
  {
   "cell_type": "code",
   "execution_count": null,
   "id": "66a4e54f",
   "metadata": {},
   "outputs": [],
   "source": [
    "def mergeKLists(self,lists):\n",
    "    if not lists or len(lists)==0:\n",
    "        return None\n",
    "    \n",
    "    while len(lists)>1:\n",
    "        mergedList =[]\n",
    "        \n",
    "        for i in range(0,len(lists), 2):\n",
    "            l1 = lists[i] \n",
    "            l2 = lists[i+1] if (i+1) <len(lists) else None\n",
    "            \n",
    "            mergedList.append(self.merge2List(l1,l2))\n",
    "            \n",
    "        lists = mergedList\n",
    "    return lists[0]\n",
    "\n",
    "def merge2List(self, l1,l2):\n",
    "    dummy = ListNode()\n",
    "    tail = dummy \n",
    "    \n",
    "    while l1 and l2:\n",
    "        \n",
    "        if l1.val < l2.val:\n",
    "            tail.next = l1\n",
    "            l1 = l1.next \n",
    "        else:\n",
    "            tail.next = l2 \n",
    "            l2 =l2.next \n",
    "        \n",
    "        tail = tail.next\n",
    "        \n",
    "        if l1:\n",
    "            tail.next = l1\n",
    "        if l2:\n",
    "            tail.next = l2 \n",
    "    \n",
    "    return dummy.next           \n",
    "        "
   ]
  },
  {
   "cell_type": "markdown",
   "id": "6b8f604b",
   "metadata": {},
   "source": [
    "# # Neet code 30  - Merge K Sorted Lists - Leetcode 23 - Python"
   ]
  },
  {
   "cell_type": "code",
   "execution_count": null,
   "id": "6c187383",
   "metadata": {},
   "outputs": [],
   "source": [
    "class Solution:\n",
    "    def reverseKGroup(self, head:ListNode,k:int)->ListNode:\n",
    "        dummy = ListNode(0,head)\n",
    "        groupPrev = dummy\n",
    "\n",
    "        while True:\n",
    "            kth = self.getKth(groupPrev,k)\n",
    "            if not kth:\n",
    "                break\n",
    "\n",
    "            groupNext = kth.next \n",
    "\n",
    "            prev,curr = kth.next, groupPrev.next \n",
    "\n",
    "            while curr != groupNext:\n",
    "                tmp = curr.next \n",
    "                curr.next = prev\n",
    "                prev = curr\n",
    "                curr = tmp \n",
    "\n",
    "            tmp = groupPrev.next\n",
    "            groupPrev.next = kth \n",
    "            groupPrev = tmp\n",
    "\n",
    "    \n",
    "    \n",
    "    \n",
    "        \n",
    "    def getKth(self, curr, k):\n",
    "\n",
    "        while curr and k>0:\n",
    "            curr = curr.next \n",
    "\n",
    "            k -=1\n",
    "        return curr \n",
    "       "
   ]
  },
  {
   "cell_type": "markdown",
   "id": "66040a48",
   "metadata": {},
   "source": [
    "# # Neet code 31  - InvertTree"
   ]
  },
  {
   "cell_type": "code",
   "execution_count": null,
   "id": "e5e30024",
   "metadata": {},
   "outputs": [],
   "source": [
    "class TreeNode:\n",
    "    \n",
    "    def __init__(self, val=0, left = None, right = None):\n",
    "        self.val = val \n",
    "        self.left = left \n",
    "        self.right =right \n",
    "\n",
    "    def invertTree(self, root:TreeNode)-> TreeNode:\n",
    "\n",
    "        if not root:\n",
    "            return None\n",
    "\n",
    "        tmp =root.left \n",
    "        root.left = root.right\n",
    "        root.right = temp \n",
    "\n",
    "        self.invertTree(root.left)\n",
    "\n",
    "        self.invertTree(root.right)\n",
    "\n",
    "        return root"
   ]
  },
  {
   "cell_type": "markdown",
   "id": "ff713aa8",
   "metadata": {},
   "source": [
    "# # Neet code 32  - Maximum Depth of Binary Tree"
   ]
  },
  {
   "cell_type": "code",
   "execution_count": null,
   "id": "585197cc",
   "metadata": {},
   "outputs": [],
   "source": [
    "class TreeNode:\n",
    "    \n",
    "    def __init__(self, val=0, left = None, right = None):\n",
    "        self.val = val \n",
    "        self.left = left \n",
    "        self.right =right \n",
    "        \n",
    "class Solution:\n",
    "    \n",
    "    def maxDepth(self, root:TreeNode)->int:\n",
    "        if not root:\n",
    "            return 0 \n",
    "        \n",
    "        return 1+max(self.maxDepth(root.left),self.maxDepth(root.right))\n",
    "    \n",
    "    def maxDepthBFS(self, root: TreeNode)->int:\n",
    "        if not root:\n",
    "            return 0 \n",
    "        \n",
    "        level =0 \n",
    "        q = deque([root])\n",
    "        \n",
    "        while q:\n",
    "            \n",
    "            for i in range(len(q)):\n",
    "                node = q.popleft()\n",
    "                \n",
    "                if root.left:\n",
    "                    q.append(node.left)\n",
    "                if node.right:\n",
    "                    q.append(node.right)\n",
    "                    \n",
    "            level +=1\n",
    "            \n",
    "    def macDepthDFS(self, root:TreeNode)->int:\n",
    "        if not node:\n",
    "            return 0 \n",
    "        \n",
    "        stack = [[root,1]]\n",
    "        \n",
    "        res = 1 \n",
    "        \n",
    "        while stack:\n",
    "            node,depth = stack.pop()\n",
    "            \n",
    "            if node:\n",
    "                res =max(res,depth)\n",
    "                stack.append([node.left, depth+1])\n",
    "                stack.append([node.right,depth+1])\n",
    "                \n",
    "        return res\n",
    "                "
   ]
  },
  {
   "cell_type": "code",
   "execution_count": null,
   "id": "634377f9",
   "metadata": {},
   "outputs": [],
   "source": []
  },
  {
   "cell_type": "markdown",
   "id": "4eaa2d44",
   "metadata": {},
   "source": [
    "# # Neet code 33  - Binary Tree Right Side View"
   ]
  },
  {
   "cell_type": "code",
   "execution_count": null,
   "id": "c74fc1ca",
   "metadata": {},
   "outputs": [],
   "source": [
    "from collections import deque\n",
    "\n",
    "class TreeNode:\n",
    "    def __int__(self, val=0, left =None, right= None):\n",
    "        self.left = left \n",
    "        self.right = right \n",
    "        self.val = val \n",
    "        \n",
    "class Solution:\n",
    "    \n",
    "    def rightSideView(self, root:TreeNode):\n",
    "        res = []\n",
    "        q = collections.deque([root])\n",
    "        \n",
    "        while q:\n",
    "            rightside = None\n",
    "            qlen = len(q)\n",
    "            \n",
    "            for i in range(qlen):\n",
    "                node = q.popleft()\n",
    "                if node:\n",
    "                    rightside = node \n",
    "                    q.append(node.left)\n",
    "                    q.append(node.right)\n",
    "                    \n",
    "            if rightside:\n",
    "                \n",
    "                res.append(rightside.val)\n",
    "        return res\n",
    "                \n",
    "        \n",
    "    \n",
    "    \n"
   ]
  },
  {
   "cell_type": "markdown",
   "id": "c22b6b3b",
   "metadata": {},
   "source": [
    "# # Neet code 34  - Binary Tree left Side View"
   ]
  },
  {
   "cell_type": "code",
   "execution_count": null,
   "id": "b4bd6720",
   "metadata": {},
   "outputs": [],
   "source": []
  },
  {
   "cell_type": "code",
   "execution_count": null,
   "id": "a066f994",
   "metadata": {},
   "outputs": [],
   "source": [
    "from collections import deque\n",
    "\n",
    "class TreeNode:\n",
    "    def __int__(self, val=0, left =None, right= None):\n",
    "        self.left = left \n",
    "        self.right = right \n",
    "        self.val = val \n",
    "        \n",
    "class Solution:\n",
    "    \n",
    "    def leftSideView(self, root:TreeNode):\n",
    "        res = []\n",
    "        q = collections.deque([root])\n",
    "        \n",
    "        while q:\n",
    "            leftside = None\n",
    "            qlen = len(q)\n",
    "            \n",
    "            for i in range(qlen):\n",
    "                node = q.popleft()\n",
    "                if node:\n",
    "                    leftside = node \n",
    "                    q.append(node.right)\n",
    "                    q.append(node.left)\n",
    "                    \n",
    "            if leftside:\n",
    "                \n",
    "                res.append(leftside.val)\n",
    "        return res\n",
    "                \n",
    "        \n",
    "            \n",
    "            \n",
    "                "
   ]
  },
  {
   "cell_type": "markdown",
   "id": "c6a6d5e2",
   "metadata": {},
   "source": [
    "# # Neet code 34  - Balanced tree"
   ]
  },
  {
   "cell_type": "code",
   "execution_count": null,
   "id": "d356f20b",
   "metadata": {},
   "outputs": [
    {
     "ename": "NameError",
     "evalue": "name 'null' is not defined",
     "output_type": "error",
     "traceback": [
      "\u001b[0;31m---------------------------------------------------------------------------\u001b[0m",
      "\u001b[0;31mNameError\u001b[0m                                 Traceback (most recent call last)",
      "\u001b[0;32m/var/folders/rd/h5fc4nxd5132zthf5b9zfyl40000gn/T/ipykernel_3610/1917684249.py\u001b[0m in \u001b[0;36m<module>\u001b[0;34m\u001b[0m\n\u001b[1;32m     22\u001b[0m \u001b[0;34m\u001b[0m\u001b[0m\n\u001b[1;32m     23\u001b[0m \u001b[0;34m\u001b[0m\u001b[0m\n\u001b[0;32m---> 24\u001b[0;31m \u001b[0mroot\u001b[0m\u001b[0;34m=\u001b[0m\u001b[0;34m[\u001b[0m\u001b[0;36m3\u001b[0m\u001b[0;34m,\u001b[0m\u001b[0;36m9\u001b[0m\u001b[0;34m,\u001b[0m\u001b[0;36m20\u001b[0m\u001b[0;34m,\u001b[0m\u001b[0mnull\u001b[0m\u001b[0;34m,\u001b[0m\u001b[0mnull\u001b[0m\u001b[0;34m,\u001b[0m\u001b[0;36m15\u001b[0m\u001b[0;34m,\u001b[0m\u001b[0;36m7\u001b[0m\u001b[0;34m]\u001b[0m\u001b[0;34m\u001b[0m\u001b[0;34m\u001b[0m\u001b[0m\n\u001b[0m",
      "\u001b[0;31mNameError\u001b[0m: name 'null' is not defined"
     ]
    }
   ],
   "source": [
    "class TreeNode:\n",
    "    def __init__(self, val = 0 ,left =None, Right = None):\n",
    "        self.val = val\n",
    "        self.right=right\n",
    "        self.left = left\n",
    "        \n",
    "class solution:\n",
    "    def isBalanced(self,root):\n",
    "        \n",
    "        def dfs(root):\n",
    "            \n",
    "            if not root: \n",
    "                return [True,0]\n",
    "            \n",
    "            left, right = dfs(root.left),dfs(root.right)\n",
    "            balanced = (left[0] and right[0] and \n",
    "                       abs(left[1]-right[1])<=1)\n",
    "            \n",
    "            return [balanced, 1+max(left[1],right[1])]\n",
    "        return dfs(root)[0]\n",
    "    \n",
    "            \n",
    "            \n",
    "root=[3,9,20,null,null,15,7] "
   ]
  },
  {
   "cell_type": "markdown",
   "id": "7cc8d8c6",
   "metadata": {},
   "source": [
    "# # Neet code 35  - Same Tree"
   ]
  },
  {
   "cell_type": "code",
   "execution_count": null,
   "id": "83657e99",
   "metadata": {},
   "outputs": [
    {
     "ename": "SyntaxError",
     "evalue": "invalid syntax (1556341039.py, line 5)",
     "output_type": "error",
     "traceback": [
      "\u001b[0;36m  File \u001b[0;32m\"/var/folders/rd/h5fc4nxd5132zthf5b9zfyl40000gn/T/ipykernel_3610/1556341039.py\"\u001b[0;36m, line \u001b[0;32m5\u001b[0m\n\u001b[0;31m    if not p or nor q or p.val != q.val:\u001b[0m\n\u001b[0m                    ^\u001b[0m\n\u001b[0;31mSyntaxError\u001b[0m\u001b[0;31m:\u001b[0m invalid syntax\n"
     ]
    }
   ],
   "source": [
    "class TreeNode:\n",
    "    def __init__(self, val=0, left = None, right = None):\n",
    "        if not p and not q:\n",
    "            return True \n",
    "        if not p or nor q or p.val != q.val:\n",
    "            return False \n",
    "        \n",
    "        return (self.isSameTree(p.left,q.left)and \n",
    "               self.isSameTraee(p.right,q.right))"
   ]
  },
  {
   "cell_type": "markdown",
   "id": "78c08f36",
   "metadata": {},
   "source": [
    "# # Neet code 36  - Same Sub Tree"
   ]
  },
  {
   "cell_type": "code",
   "execution_count": null,
   "id": "50f1d454",
   "metadata": {},
   "outputs": [],
   "source": [
    "def issubtree(self, t, s):\n",
    "    \n",
    "    if not t and not s:\n",
    "        return True \n",
    "    if not s:\n",
    "        return True\n",
    "    \n",
    "    \n",
    "    \n",
    "    \n",
    "    \n",
    "    def issametree(self, p,q):\n",
    "        if not q and not p:\n",
    "            return True \n",
    "        if p or q:\n",
    "            return False\n",
    "        if p and q and p.val==q.val:\n",
    "            return(self.sameTree(p.left,q.left) and\n",
    "                  self.sameTree(p.right,q.right))\n",
    "            "
   ]
  },
  {
   "cell_type": "markdown",
   "id": "e0f194ac",
   "metadata": {},
   "source": [
    "# # Neet code 37  - Same Sub Tree"
   ]
  },
  {
   "cell_type": "code",
   "execution_count": null,
   "id": "fe0a0030",
   "metadata": {},
   "outputs": [],
   "source": [
    "def lowestcommonancestor(self, root, p, q):\n",
    "    \n",
    "    curr = root \n",
    "    \n",
    "    while curr:\n",
    "        if p.val>curr.val and q.val>curr.val:\n",
    "            curr=curr.right \n",
    "        if p.val<curr.val and q.val<curr.val:\n",
    "            curr=curr.left \n",
    "        else:\n",
    "            return curr\n",
    "        \n",
    "        "
   ]
  },
  {
   "cell_type": "markdown",
   "id": "ce1f7f55",
   "metadata": {},
   "source": [
    "# # Neet code 38  - Level order traversel\n"
   ]
  },
  {
   "cell_type": "code",
   "execution_count": null,
   "id": "ba4b6441",
   "metadata": {},
   "outputs": [],
   "source": [
    "def levelOrder(sefl, root):\n",
    "    \n",
    "    res = []\n",
    "    q = collections.deque()\n",
    "    \n",
    "    q.append(root)\n",
    "    \n",
    "    while q:\n",
    "        \n",
    "        qlen = len(q)\n",
    "        level = []\n",
    "        for i in range(qlen):\n",
    "        \n",
    "            node= q.popleft()\n",
    "            \n",
    "            if node:\n",
    "                level.append(node.val)\n",
    "                q.append(node.left)\n",
    "                q.append(node.right)\n",
    "        \n",
    "        if level:\n",
    "            res.append(level)\n",
    "            \n",
    "    return level      "
   ]
  },
  {
   "cell_type": "markdown",
   "id": "727bc633",
   "metadata": {},
   "source": [
    "# # Neet code 39  - Level order traversel"
   ]
  },
  {
   "cell_type": "code",
   "execution_count": null,
   "id": "33f5b1d4",
   "metadata": {},
   "outputs": [],
   "source": [
    "class TreeNode:\n",
    "    \n",
    "    def __init__(self,val=0,left=None,right=None):\n",
    "        self.val = val\n",
    "        self.left = left \n",
    "        self.right = right\n",
    "        \n",
    "class Solution:\n",
    "    \n",
    "    def goodNodes(self,root):\n",
    "        \n",
    "        def dfs(node,maxVal):\n",
    "            \n",
    "            if not node:\n",
    "                return True \n",
    "            res = 1 if node.val >=maxVal else 0 \n",
    "            maxVal = max(maxVal,res)\n",
    "            res += dfs(node.left, maxVal)\n",
    "            res += dfs(node.right,maxVal)\n",
    "            \n",
    "            return res\n",
    "        \n",
    "        \n",
    "        dfs(root,root.val)\n",
    "    \n",
    "        "
   ]
  },
  {
   "cell_type": "markdown",
   "id": "99816f6d",
   "metadata": {},
   "source": [
    "# # Neet code 40  - Level order traversel"
   ]
  },
  {
   "cell_type": "code",
   "execution_count": null,
   "id": "a8c3acfa",
   "metadata": {},
   "outputs": [],
   "source": [
    "def validBST(self, root):\n",
    "    \n",
    "    \n",
    "    def valid(node,left,right):\n",
    "        if not node:\n",
    "            return True \n",
    "\n",
    "        if (node.val >left and \n",
    "            node.val <right):\n",
    "            return True\n",
    "        \n",
    "        return (valid(node.left,left, node.val) and \n",
    "                valid(node.left,left, node.val))\n",
    "    \n",
    "    return valid(root, float(\"-inf\"),float(\"inf\"))\n",
    "\n",
    "\n",
    "    \n",
    "\n",
    "\n",
    "    "
   ]
  },
  {
   "cell_type": "markdown",
   "id": "bd86f66d",
   "metadata": {},
   "source": [
    "# # Neet code 40  - Level order traversel"
   ]
  },
  {
   "cell_type": "code",
   "execution_count": null,
   "id": "98bf06bf",
   "metadata": {},
   "outputs": [],
   "source": [
    "def kthSmallest(self, root, k):\n",
    "    \n",
    "    n =0 \n",
    "    stack =[]\n",
    "    curr = node \n",
    "    \n",
    "    while curr or stack:\n",
    "        while curr:\n",
    "            stack.append(cur)\n",
    "            curr = curr.left \n",
    "            \n",
    "        curr = stack.pop()\n",
    "        n+=1\n",
    "        if n==k:\n",
    "            return curr.val\n",
    "        curr = curr.right\n"
   ]
  },
  {
   "cell_type": "markdown",
   "id": "25f7f474",
   "metadata": {},
   "source": [
    "# # Neet code 41  - Level order traversel"
   ]
  },
  {
   "cell_type": "code",
   "execution_count": null,
   "id": "f4695bbe",
   "metadata": {},
   "outputs": [],
   "source": [
    "def builTree(self, preorder, inorder):\n",
    "    if not preorder or inorder:\n",
    "        return None\n",
    "    \n",
    "    root = TreeNode(preorder[0])\n",
    "    mid = inorder.index([preorder[0]])\n",
    "    root.left=self.buildTree(preorder[1:mid+1],inorder[:mid])\n",
    "    root.right=self.buildTree(preorder[mid+1:],inorder[mid+1:])\n",
    "    \n",
    "    return root\n",
    "    \n",
    "    "
   ]
  },
  {
   "cell_type": "markdown",
   "id": "27d9f767",
   "metadata": {},
   "source": [
    "# # Neet code 42  - Maximum Path Sum"
   ]
  },
  {
   "cell_type": "code",
   "execution_count": null,
   "id": "794d9499",
   "metadata": {},
   "outputs": [],
   "source": [
    "def maxPathSum(self, root):\n",
    "    \n",
    "    res = [root.val]\n",
    "    \n",
    "    def dfs(root):\n",
    "        if not root:\n",
    "            return 0 \n",
    "        \n",
    "        leftmax = dfs(root.left)\n",
    "        rightmax = dfs(root.right)\n",
    "        leftmax = max(leftmax,0)\n",
    "        rightmax = max(rightmax,0)\n",
    "        \n",
    "        res[0] = max(res[0], root.val+leftmax+rightmax)\n",
    "        \n",
    "        return root.val+max(rightmax,leftmax)\n",
    "    \n",
    "    dfs(root)\n",
    "    \n",
    "    return res[0]\n",
    "    \n",
    "    \n",
    "    "
   ]
  },
  {
   "cell_type": "markdown",
   "id": "206387dc",
   "metadata": {},
   "source": [
    "# # Neet code 43  - serialize and desrialize"
   ]
  },
  {
   "cell_type": "code",
   "execution_count": null,
   "id": "29e623bd",
   "metadata": {},
   "outputs": [],
   "source": [
    "def seriablize(self, root):\n",
    "    res =[]\n",
    "    \n",
    "    def dfs(node):\n",
    "        if not node:\n",
    "            res.append(\"N\")\n",
    "            return\n",
    "        res.append(str(node.val))\n",
    "        dfs(node.left)\n",
    "        dfs(node.right)\n",
    "        \n",
    "    dfs(root)\n",
    "    return \",\".join(res)\n",
    "\n",
    "def deseriablise(self,data):\n",
    "    vals= data.split(\",\")\n",
    "    self.i=0\n",
    "\n",
    "    def dfs():\n",
    "        if vals[self.i]==\"N\":\n",
    "            self.i +=1\n",
    "            return None\n",
    "        nod.TreeNode(int(vals[self.i]))\n",
    "        self.i+=1\n",
    "        node.left = dfs()\n",
    "        node.right= dfs()\n",
    "        \n",
    "        return node \n",
    "    return dfs()\n",
    "\n",
    "    "
   ]
  },
  {
   "cell_type": "markdown",
   "id": "86b898d3",
   "metadata": {},
   "source": [
    "# # Neet code 44  - Trie data structure "
   ]
  },
  {
   "cell_type": "code",
   "execution_count": null,
   "id": "9fcd8820",
   "metadata": {},
   "outputs": [],
   "source": [
    "class _TrieNode:\n",
    "    def __init__(self):\n",
    "        self.children = [None]*26\n",
    "        self.endOfWord= False\n",
    "        \n",
    "class Trie:\n",
    "    def __init__(self):\n",
    "        self.root =  _TrieNode()\n",
    "        \n",
    "    def insert(self,word):\n",
    "        curr = self.root\n",
    "        \n",
    "        for c in word:\n",
    "            if c not in curr.children:\n",
    "                curr.children[c]= _TrieNode()\n",
    "            curr = curr.children[c]\n",
    "        curr.endofWord = True\n",
    "        \n",
    "    def search(self,word):\n",
    "        curr = self.root\n",
    "        \n",
    "        for c in word:\n",
    "            if c not in curr.children:\n",
    "                return False\n",
    "            curr = curr.children[c]\n",
    "        return curr.endOfWord\n",
    "    \n",
    "    def startsWith(self,prefix):\n",
    "        curr = self.root\n",
    "        \n",
    "        for c in prefix:\n",
    "            if c not in curr.children:\n",
    "                return False\n",
    "            curr = curr.children[c]\n",
    "        return True\n",
    "            \n",
    "    \n",
    "    "
   ]
  },
  {
   "cell_type": "code",
   "execution_count": null,
   "id": "acf6a0aa",
   "metadata": {},
   "outputs": [
    {
     "data": {
      "text/plain": [
       "False"
      ]
     },
     "execution_count": 31,
     "metadata": {},
     "output_type": "execute_result"
    }
   ],
   "source": [
    "trie = Trie()\n",
    "\n",
    "trie.insert(\"apple\")\n",
    "#tire.search(\"apple\")\n",
    "\n",
    "trie.search(\"apple\")\n"
   ]
  },
  {
   "cell_type": "code",
   "execution_count": null,
   "id": "cf2fed65",
   "metadata": {},
   "outputs": [],
   "source": [
    "class TrieNode:\n",
    "    def __init__(self):\n",
    "        self.children = [None] * 26\n",
    "        self.end = False\n",
    "        \n",
    "class Trie:\n",
    "    \n",
    "    def __init__(self):\n",
    "        \"\"\"\n",
    "        Initialize your data structure here.\n",
    "        \"\"\"\n",
    "        self.root = TrieNode()\n",
    "        \n",
    "\n",
    "    def insert(self, word: str) -> None:\n",
    "        \"\"\"\n",
    "        Inserts a word into the trie.\n",
    "        \"\"\"\n",
    "        curr = self.root\n",
    "        for c in word:\n",
    "            i = ord(c)-ord(\"a\")\n",
    "            if curr.children[i] == None:\n",
    "                curr.children[i] = TrieNode()\n",
    "            curr = curr.children[i]\n",
    "        curr.end = True\n",
    "        \n",
    "    def search(self, word: str) -> bool:\n",
    "        \"\"\"\n",
    "        Returns if the word is in the trie.\n",
    "        \"\"\"\n",
    "        curr = self.root\n",
    "        for c in word:\n",
    "            i = ord(c)-ord(\"a\")\n",
    "            if curr.children[i] == None:\n",
    "                return False\n",
    "            curr = curr.children[i]\n",
    "        return curr.end\n",
    "\n",
    "    def startsWith(self, prefix: str) -> bool:\n",
    "        \"\"\"\n",
    "        Returns if there is any word in the trie that starts with the given prefix.\n",
    "        \"\"\"\n",
    "        curr = self.root\n",
    "        for c in prefix:\n",
    "            i = ord(c)-ord(\"a\")\n",
    "            if curr.children[i] == None:\n",
    "                return False\n",
    "            curr = curr.children[i]\n",
    "        return True"
   ]
  },
  {
   "cell_type": "code",
   "execution_count": null,
   "id": "a7722ce9",
   "metadata": {},
   "outputs": [
    {
     "data": {
      "text/plain": [
       "False"
      ]
     },
     "execution_count": 26,
     "metadata": {},
     "output_type": "execute_result"
    }
   ],
   "source": [
    "tire = Trie()\n",
    "\n",
    "tire.insert(\"apple\")\n",
    "#tire.search(\"apple\")\n",
    "\n",
    "tire.search(\"app\")\n"
   ]
  },
  {
   "cell_type": "markdown",
   "id": "a90d5b0f",
   "metadata": {},
   "source": [
    "# # Neet code 45  - Kth Largest Element in a Stream - Leetcode 703 - Python"
   ]
  },
  {
   "cell_type": "code",
   "execution_count": null,
   "id": "ef8b0461",
   "metadata": {},
   "outputs": [],
   "source": [
    "class KthLargest:\n",
    "    \n",
    "    def __init__(self, k, nums):\n",
    "        \n",
    "        self.minHeap, self.k = nums, k \n",
    "        heapq.heapify(self.minheap)\n",
    "        while len(self.minHeap)>k:\n",
    "            heapq.heappop(self.minHeap)\n",
    "            \n",
    "    def add(self,value):\n",
    "        \n",
    "        \n",
    "        heapq.heappush(minHeap,val)\n",
    "        if len(minHeap)>k:\n",
    "            \n",
    "            heapq.heappop(minHeap)\n",
    "        return self.minHeap[0]"
   ]
  },
  {
   "cell_type": "markdown",
   "id": "0a45f23b",
   "metadata": {},
   "source": [
    "# # Neet code 45  - Kth Largest Element in a Stream - Leetcode 703 - Python\n"
   ]
  },
  {
   "cell_type": "code",
   "execution_count": null,
   "id": "3d98ff8b",
   "metadata": {},
   "outputs": [],
   "source": [
    "class solution:\n",
    "    \n",
    "    def lastStoneWeight(self, nums):\n",
    "        \n",
    "        heapq.heapify(nums)\n",
    "        \n",
    "        while len(stones)>1:\n",
    "            first = heapq.heappop(stones)\n",
    "            second = heapq.heappop(stones)\n",
    "            \n",
    "            if second>first:\n",
    "                difference = (first - second)\n",
    "                heapq.heappush(minHeap,difference)\n",
    "            \n",
    "        if not stones:\n",
    "            stones.append(0)\n",
    "        \n",
    "        return abs(stones[0])\n",
    "                \n",
    "    \n",
    "       \n",
    "        \n",
    "        \n",
    "        \n",
    "        "
   ]
  },
  {
   "cell_type": "markdown",
   "id": "e88e164c",
   "metadata": {},
   "source": [
    "# # Neet code 46  - Kth closest points to origin"
   ]
  },
  {
   "cell_type": "code",
   "execution_count": null,
   "id": "be1ba01d",
   "metadata": {},
   "outputs": [],
   "source": [
    "class solution:\n",
    "    def kclosest(self, points):\n",
    "        \n",
    "        minHeap =[]\n",
    "        for x, y in points:\n",
    "            dist = (x**2)+(y**2)\n",
    "            minHeap.append([dist,x,y])\n",
    "            \n",
    "        heapq.heapify(minHeap)\n",
    "        res = []\n",
    "        while k>0:\n",
    "            dist, x, y = heap.heappop(minheap)\n",
    "            \n",
    "            res.append([x,y])\n",
    "            k -=1\n",
    "            \n",
    "        return res\n",
    "            "
   ]
  },
  {
   "cell_type": "markdown",
   "id": "88c6459e",
   "metadata": {},
   "source": [
    "# # Neet code 47  - Kth Largest element"
   ]
  },
  {
   "cell_type": "code",
   "execution_count": null,
   "id": "f59483ae",
   "metadata": {},
   "outputs": [],
   "source": [
    "class solution:\n",
    "    \n",
    "    def klargest(self, nums,k):\n",
    "        \n",
    "        nums = -1*nums [-num for num in nums]\n",
    "        heapq.heapify(nums)\n",
    "        results = []\n",
    "        while k>0:\n",
    "            curr_max=heapq.heappop(nums)\n",
    "            results.append(curr_max)\n",
    "            \n",
    "            k -=1\n",
    "        \n",
    "        return -results[-1]\n",
    "        \n",
    "        \n",
    "        \n",
    "        "
   ]
  },
  {
   "cell_type": "code",
   "execution_count": null,
   "id": "e4e96ad6",
   "metadata": {},
   "outputs": [
    {
     "ename": "NameError",
     "evalue": "name 'List' is not defined",
     "output_type": "error",
     "traceback": [
      "\u001b[0;31m---------------------------------------------------------------------------\u001b[0m",
      "\u001b[0;31mNameError\u001b[0m                                 Traceback (most recent call last)",
      "\u001b[0;32m/var/folders/rd/h5fc4nxd5132zthf5b9zfyl40000gn/T/ipykernel_4027/3571785994.py\u001b[0m in \u001b[0;36m<module>\u001b[0;34m\u001b[0m\n\u001b[0;32m----> 1\u001b[0;31m \u001b[0;32mclass\u001b[0m \u001b[0mSolution\u001b[0m\u001b[0;34m:\u001b[0m\u001b[0;34m\u001b[0m\u001b[0;34m\u001b[0m\u001b[0m\n\u001b[0m\u001b[1;32m      2\u001b[0m     \u001b[0;32mdef\u001b[0m \u001b[0mfindKthLargest\u001b[0m\u001b[0;34m(\u001b[0m\u001b[0mself\u001b[0m\u001b[0;34m,\u001b[0m \u001b[0mnums\u001b[0m\u001b[0;34m:\u001b[0m \u001b[0mList\u001b[0m\u001b[0;34m[\u001b[0m\u001b[0mint\u001b[0m\u001b[0;34m]\u001b[0m\u001b[0;34m,\u001b[0m \u001b[0mk\u001b[0m\u001b[0;34m:\u001b[0m \u001b[0mint\u001b[0m\u001b[0;34m)\u001b[0m \u001b[0;34m->\u001b[0m \u001b[0mint\u001b[0m\u001b[0;34m:\u001b[0m\u001b[0;34m\u001b[0m\u001b[0;34m\u001b[0m\u001b[0m\n\u001b[1;32m      3\u001b[0m \u001b[0;34m\u001b[0m\u001b[0m\n\u001b[1;32m      4\u001b[0m \u001b[0;34m\u001b[0m\u001b[0m\n\u001b[1;32m      5\u001b[0m         \u001b[0mindex\u001b[0m \u001b[0;34m=\u001b[0m \u001b[0mlen\u001b[0m\u001b[0;34m(\u001b[0m\u001b[0mnums\u001b[0m\u001b[0;34m)\u001b[0m\u001b[0;34m-\u001b[0m\u001b[0mk\u001b[0m\u001b[0;34m+\u001b[0m\u001b[0;36m1\u001b[0m \u001b[0;31m#getting negative values\u001b[0m\u001b[0;34m\u001b[0m\u001b[0;34m\u001b[0m\u001b[0m\n",
      "\u001b[0;32m/var/folders/rd/h5fc4nxd5132zthf5b9zfyl40000gn/T/ipykernel_4027/3571785994.py\u001b[0m in \u001b[0;36mSolution\u001b[0;34m()\u001b[0m\n\u001b[1;32m      1\u001b[0m \u001b[0;32mclass\u001b[0m \u001b[0mSolution\u001b[0m\u001b[0;34m:\u001b[0m\u001b[0;34m\u001b[0m\u001b[0;34m\u001b[0m\u001b[0m\n\u001b[0;32m----> 2\u001b[0;31m     \u001b[0;32mdef\u001b[0m \u001b[0mfindKthLargest\u001b[0m\u001b[0;34m(\u001b[0m\u001b[0mself\u001b[0m\u001b[0;34m,\u001b[0m \u001b[0mnums\u001b[0m\u001b[0;34m:\u001b[0m \u001b[0mList\u001b[0m\u001b[0;34m[\u001b[0m\u001b[0mint\u001b[0m\u001b[0;34m]\u001b[0m\u001b[0;34m,\u001b[0m \u001b[0mk\u001b[0m\u001b[0;34m:\u001b[0m \u001b[0mint\u001b[0m\u001b[0;34m)\u001b[0m \u001b[0;34m->\u001b[0m \u001b[0mint\u001b[0m\u001b[0;34m:\u001b[0m\u001b[0;34m\u001b[0m\u001b[0;34m\u001b[0m\u001b[0m\n\u001b[0m\u001b[1;32m      3\u001b[0m \u001b[0;34m\u001b[0m\u001b[0m\n\u001b[1;32m      4\u001b[0m \u001b[0;34m\u001b[0m\u001b[0m\n\u001b[1;32m      5\u001b[0m         \u001b[0mindex\u001b[0m \u001b[0;34m=\u001b[0m \u001b[0mlen\u001b[0m\u001b[0;34m(\u001b[0m\u001b[0mnums\u001b[0m\u001b[0;34m)\u001b[0m\u001b[0;34m-\u001b[0m\u001b[0mk\u001b[0m\u001b[0;34m+\u001b[0m\u001b[0;36m1\u001b[0m \u001b[0;31m#getting negative values\u001b[0m\u001b[0;34m\u001b[0m\u001b[0;34m\u001b[0m\u001b[0m\n",
      "\u001b[0;31mNameError\u001b[0m: name 'List' is not defined"
     ]
    }
   ],
   "source": [
    "class Solution:\n",
    "    def findKthLargest(self, nums: List[int], k: int) -> int:\n",
    "        \n",
    "        \n",
    "        index = len(nums)-k+1 #getting negative values \n",
    "        heapq.heapify(nums)\n",
    "        results = []\n",
    "        while index>0:\n",
    "            curr_max=heapq.heappop(nums)\n",
    "            results.append(curr_max)\n",
    "            \n",
    "            index -=1\n",
    "        \n",
    "        return results[-1]\n",
    "        "
   ]
  },
  {
   "cell_type": "markdown",
   "id": "fc18246c",
   "metadata": {},
   "source": [
    "# # Neet code 47  - Kth Largest element"
   ]
  },
  {
   "cell_type": "code",
   "execution_count": null,
   "id": "237c4636",
   "metadata": {},
   "outputs": [],
   "source": [
    "def leastInterval(self, tasks, n):\n",
    "    count = counter(tasks)\n",
    "    \n",
    "    maxHeap = [-cnt for cnt in count.values()]\n",
    "    heapq.heapify(maxHeap)\n",
    "    \n",
    "    time = 0\n",
    "    q = deque()\n",
    "    while maxHeap or q:\n",
    "        time +=1 \n",
    "        if maxHeap:\n",
    "            cnt = 1+heapq.heappop(maxHeap)\n",
    "            if cnt:\n",
    "                q.append([cnt,time+n])\n",
    "                \n",
    "        if q and q[0][1] == time:\n",
    "            heapq.heappush(maxHeap, q.popleft()[0])\n",
    "            \n",
    "    return time\n"
   ]
  },
  {
   "cell_type": "markdown",
   "id": "6beb98b5",
   "metadata": {},
   "source": [
    "# # Neet code 48  - Design Twitter"
   ]
  },
  {
   "cell_type": "code",
   "execution_count": null,
   "id": "336680d0",
   "metadata": {},
   "outputs": [],
   "source": [
    "class Twitter:\n",
    "    \n",
    "    \n",
    "    \n",
    "    def __init__(self):\n",
    "        \n",
    "        self.count =0 \n",
    "        self.tweetMap = defaultdict(list)\n",
    "        self.followMap = defaultdict(set)\n",
    "        \n",
    "        \n",
    "    \n",
    "    def postTweet(self,userId ,tweetId):  \n",
    "        \n",
    "        self.tweetMap[userId].append([self.count,tweetId])\n",
    "        \n",
    "        self.count -=1\n",
    "        \n",
    "    def getNewsFeed(self):  \n",
    "        \n",
    "        res = []\n",
    "        minHeap =[]\n",
    "        \n",
    "        for followeeId in self.followerMap[userId]:\n",
    "            \n",
    "            if followeeId in self.tweetMap:\n",
    "                \n",
    "                index = len(self.tweetMap[followeeId])-1\n",
    "                count, tweetId = self.tweetMap[followeeId][index]\n",
    "                minHeap.append([count,tweetId,followeeId,index-1])\n",
    "                \n",
    "            heapq.heapify(minHeap)\n",
    "            while minHeap and len(res)<10:\n",
    "                \n",
    "                count,tweetId,follweeId,index=heapq.heappop(minHeap)\n",
    "                \n",
    "                \n",
    "                \n",
    "        \n",
    "         \n",
    "    \n",
    "    def follow(self, follwerId, followeeId):\n",
    "        \n",
    "        self.followMap[follwerId].add(followeeID)\n",
    "        \n",
    "     \n",
    "        \n",
    "    def unfollow(self, follwerId, followeeId):\n",
    "        \n",
    "    \n",
    "        if followeeId in self.followMap[followerID]:\n",
    "            self.followMap[followerId].remove(followeeId)\n",
    "\n",
    "        "
   ]
  },
  {
   "cell_type": "markdown",
   "id": "7ba92f8a",
   "metadata": {},
   "source": [
    "# # Neet code 49  - find Median"
   ]
  },
  {
   "cell_type": "code",
   "execution_count": null,
   "id": "f3182c1e",
   "metadata": {},
   "outputs": [],
   "source": [
    "class MedianFinder:\n",
    "    \n",
    "    def __init__(self):\n",
    "        \n",
    "        self.small, self.large = [],[]\n",
    "        \n",
    "    \n",
    "    def addNum(self, num:int)->None:\n",
    "        \n",
    "        heapq.heappush(self.small,-1*num)\n",
    "        \n",
    "        #make sure every element insmall is <= every num. in large\n",
    "        \n",
    "        if (self.small and self.large and -1*self.small[0]> self.large[0]):\n",
    "            \n",
    "            val = -1*heapq.heappop(self.small)\n",
    "            \n",
    "            heapq.heappush(self.large,val)\n",
    "            \n",
    "        #uneven size\n",
    "        \n",
    "        if len(self.small)> len(self.large)+1:\n",
    "            \n",
    "            val = -1*heapq.heappop(self.small)\n",
    "            \n",
    "            heapq.heappush(self.large,val)\n",
    "            \n",
    "        if len(self.large)> len(self.small)+1:\n",
    "            \n",
    "            val = heapq.heappop(self.large)\n",
    "            \n",
    "            heapq.heappush(self.small,-1*val)\n",
    "            \n",
    "        \n",
    "    \n",
    "    def findMedian(self)->float:\n",
    "        \n",
    "        if len(self.small)>len(self.large):\n",
    "            \n",
    "            return -1*heapq.heappop(self.small)\n",
    "        \n",
    "        if len(self.small)==len(self.large):\n",
    "            \n",
    "            return 0.5*(-1*heapq.heappop(self.small) + heapq.heappop(self.large))\n",
    "        \n",
    "    \n",
    "\n",
    "# Your MedianFinder object will be instantiated and called as such:\n",
    "# obj = MedianFinder()\n",
    "# obj.addNum(num)\n",
    "# param_2 = obj.findMedian()"
   ]
  },
  {
   "cell_type": "markdown",
   "id": "5b54ffa9",
   "metadata": {},
   "source": [
    "# # Neet code 50  - subsets 78"
   ]
  },
  {
   "cell_type": "code",
   "execution_count": null,
   "id": "9e264716",
   "metadata": {},
   "outputs": [
    {
     "ename": "NameError",
     "evalue": "name 'List' is not defined",
     "output_type": "error",
     "traceback": [
      "\u001b[0;31m---------------------------------------------------------------------------\u001b[0m",
      "\u001b[0;31mNameError\u001b[0m                                 Traceback (most recent call last)",
      "\u001b[0;32m/var/folders/rd/h5fc4nxd5132zthf5b9zfyl40000gn/T/ipykernel_1229/3839896233.py\u001b[0m in \u001b[0;36m<module>\u001b[0;34m\u001b[0m\n\u001b[0;32m----> 1\u001b[0;31m \u001b[0;32mclass\u001b[0m \u001b[0mSolution\u001b[0m\u001b[0;34m:\u001b[0m\u001b[0;34m\u001b[0m\u001b[0;34m\u001b[0m\u001b[0m\n\u001b[0m\u001b[1;32m      2\u001b[0m \u001b[0;34m\u001b[0m\u001b[0m\n\u001b[1;32m      3\u001b[0m     \u001b[0;32mdef\u001b[0m \u001b[0msubsetsWithDup\u001b[0m\u001b[0;34m(\u001b[0m\u001b[0mself\u001b[0m\u001b[0;34m,\u001b[0m \u001b[0mnums\u001b[0m\u001b[0;34m:\u001b[0m\u001b[0mList\u001b[0m\u001b[0;34m[\u001b[0m\u001b[0mint\u001b[0m\u001b[0;34m]\u001b[0m\u001b[0;34m)\u001b[0m\u001b[0;34m->\u001b[0m \u001b[0mList\u001b[0m\u001b[0;34m[\u001b[0m\u001b[0mList\u001b[0m\u001b[0;34m[\u001b[0m\u001b[0mint\u001b[0m\u001b[0;34m]\u001b[0m\u001b[0;34m]\u001b[0m\u001b[0;34m:\u001b[0m\u001b[0;34m\u001b[0m\u001b[0;34m\u001b[0m\u001b[0m\n\u001b[1;32m      4\u001b[0m \u001b[0;34m\u001b[0m\u001b[0m\n\u001b[1;32m      5\u001b[0m         \u001b[0mresult\u001b[0m \u001b[0;34m=\u001b[0m\u001b[0mset\u001b[0m\u001b[0;34m(\u001b[0m\u001b[0;34m[\u001b[0m\u001b[0;34m]\u001b[0m\u001b[0;34m)\u001b[0m\u001b[0;34m\u001b[0m\u001b[0;34m\u001b[0m\u001b[0m\n",
      "\u001b[0;32m/var/folders/rd/h5fc4nxd5132zthf5b9zfyl40000gn/T/ipykernel_1229/3839896233.py\u001b[0m in \u001b[0;36mSolution\u001b[0;34m()\u001b[0m\n\u001b[1;32m      1\u001b[0m \u001b[0;32mclass\u001b[0m \u001b[0mSolution\u001b[0m\u001b[0;34m:\u001b[0m\u001b[0;34m\u001b[0m\u001b[0;34m\u001b[0m\u001b[0m\n\u001b[1;32m      2\u001b[0m \u001b[0;34m\u001b[0m\u001b[0m\n\u001b[0;32m----> 3\u001b[0;31m     \u001b[0;32mdef\u001b[0m \u001b[0msubsetsWithDup\u001b[0m\u001b[0;34m(\u001b[0m\u001b[0mself\u001b[0m\u001b[0;34m,\u001b[0m \u001b[0mnums\u001b[0m\u001b[0;34m:\u001b[0m\u001b[0mList\u001b[0m\u001b[0;34m[\u001b[0m\u001b[0mint\u001b[0m\u001b[0;34m]\u001b[0m\u001b[0;34m)\u001b[0m\u001b[0;34m->\u001b[0m \u001b[0mList\u001b[0m\u001b[0;34m[\u001b[0m\u001b[0mList\u001b[0m\u001b[0;34m[\u001b[0m\u001b[0mint\u001b[0m\u001b[0;34m]\u001b[0m\u001b[0;34m]\u001b[0m\u001b[0;34m:\u001b[0m\u001b[0;34m\u001b[0m\u001b[0;34m\u001b[0m\u001b[0m\n\u001b[0m\u001b[1;32m      4\u001b[0m \u001b[0;34m\u001b[0m\u001b[0m\n\u001b[1;32m      5\u001b[0m         \u001b[0mresult\u001b[0m \u001b[0;34m=\u001b[0m\u001b[0mset\u001b[0m\u001b[0;34m(\u001b[0m\u001b[0;34m[\u001b[0m\u001b[0;34m]\u001b[0m\u001b[0;34m)\u001b[0m\u001b[0;34m\u001b[0m\u001b[0;34m\u001b[0m\u001b[0m\n",
      "\u001b[0;31mNameError\u001b[0m: name 'List' is not defined"
     ]
    }
   ],
   "source": [
    "class Solution:\n",
    "    \n",
    "    def subsetsWithDup(self, nums:List[int])-> List[List[int]]:\n",
    "        \n",
    "        result =set([])\n",
    "        \n",
    "        subset = []\n",
    "        \n",
    "        def dfs(i):\n",
    "            \n",
    "            if i >= len(nums):\n",
    "                result.append(subset.copy())\n",
    "                return\n",
    "            \n",
    "            subset.append(nums[i])\n",
    "            dfs(i+1)\n",
    "            \n",
    "            subset.pop()\n",
    "            dfs(i+1)\n",
    "            \n",
    "        dfs(0)\n",
    "        return result\n",
    "           "
   ]
  },
  {
   "cell_type": "markdown",
   "id": "d6e53ebc",
   "metadata": {},
   "source": [
    "# # Neet code 51  - 39. Combination Sum"
   ]
  },
  {
   "cell_type": "code",
   "execution_count": null,
   "id": "3fbdbfd1",
   "metadata": {},
   "outputs": [],
   "source": [
    "class Solution:\n",
    "    def combinationSum(self, candidates: List[int], target: int) -> List[List[int]]:\n",
    "        res = []\n",
    "        \n",
    "        def dfs(i,cur,total):\n",
    "            \n",
    "            if total == target:\n",
    "                res.append(cur.copy())\n",
    "                return\n",
    "            if i>=len(candidates) or total>target:\n",
    "                \n",
    "                return \n",
    "            \n",
    "            cur.append(candidates[i])\n",
    "            dfs(i,cur,total+candidates[i])\n",
    "            cur.pop()\n",
    "            \n",
    "            dfs(i+1,cur,total)\n",
    "            \n",
    "        dfs(0,[],0)\n",
    "        \n",
    "        \n",
    "        return res\n",
    "            \n",
    "        \n",
    "        "
   ]
  },
  {
   "cell_type": "markdown",
   "id": "8cb6d307",
   "metadata": {},
   "source": [
    "# Neet code 51  - 39. Combination SumBacktracking: Permutations - Leetcode 46 - Python"
   ]
  },
  {
   "cell_type": "code",
   "execution_count": null,
   "id": "28c5aa66",
   "metadata": {},
   "outputs": [],
   "source": [
    "class Solution:\n",
    "    \n",
    "    def permute(self, nums:List[int])-> List[List[int]]:\n",
    "        \n",
    "        result = []\n",
    "        \n",
    "        if (len(nums)==1):\n",
    "            return [nums[:]]\n",
    "        \n",
    "        for i in range(len(nums)):\n",
    "            \n",
    "            n = nums.pop(0)\n",
    "            perms = self.permute(nums)\n",
    "            \n",
    "            \n",
    "            for perm in perms:\n",
    "                perm.append(n)\n",
    "                \n",
    "            result.extend(perms)\n",
    "            nums.append(n)\n",
    "            \n",
    "        return result \n",
    "    \n",
    "            \n",
    "            \n",
    "            \n",
    "        "
   ]
  },
  {
   "cell_type": "markdown",
   "id": "b11d0060",
   "metadata": {},
   "source": [
    "# Neet code 51  - Word Search - Backtracking - Leetcode 79 - Python"
   ]
  },
  {
   "cell_type": "code",
   "execution_count": null,
   "id": "5d6f7c3f",
   "metadata": {},
   "outputs": [],
   "source": [
    "class Solution:\n",
    "    \n",
    "    def exist(self, board: List[List[str]],word: str)-> bool:\n",
    "        \n",
    "        ROWS, COLS = len(board), len(board[0])\n",
    "        path = set()\n",
    "        \n",
    "        \n",
    "        def dfs(r,c,i):\n",
    "            \n",
    "            if i == len(word):\n",
    "                return True\n",
    "            \n",
    "            if (r<0 or c<0 or \n",
    "                r >=ROWS or c>=COLS or \n",
    "                word[i]!=board[r][c] or\n",
    "                 (r,c) in path):\n",
    "                \n",
    "                 return False\n",
    "                \n",
    "            \n",
    "            path.add((r,c))\n",
    "            \n",
    "            \n",
    "            res = (dfs(r+1, c, i+1) or \n",
    "                   dfs(r, c+1, i+1) or \n",
    "                   dfs(r-1, c, i+1) or \n",
    "                   dfs(r, c-1, i+1)  )\n",
    "            \n",
    "            path.remove((r,c))\n",
    "            return res \n",
    "        \n",
    "        for r in range(ROWS):\n",
    "            \n",
    "            for c in range(COLS):\n",
    "                if dfs(r,c,0): return True\n",
    "                \n",
    "        return False"
   ]
  },
  {
   "cell_type": "markdown",
   "id": "96330fcc",
   "metadata": {},
   "source": [
    "# Neet code 52  - N Queens 51"
   ]
  },
  {
   "cell_type": "code",
   "execution_count": null,
   "id": "d5c57829",
   "metadata": {},
   "outputs": [
    {
     "ename": "NameError",
     "evalue": "name 'List' is not defined",
     "output_type": "error",
     "traceback": [
      "\u001b[0;31m---------------------------------------------------------------------------\u001b[0m",
      "\u001b[0;31mNameError\u001b[0m                                 Traceback (most recent call last)",
      "\u001b[0;32m/var/folders/rd/h5fc4nxd5132zthf5b9zfyl40000gn/T/ipykernel_1915/434554161.py\u001b[0m in \u001b[0;36m<module>\u001b[0;34m\u001b[0m\n\u001b[0;32m----> 1\u001b[0;31m \u001b[0;32mclass\u001b[0m \u001b[0mSolution\u001b[0m\u001b[0;34m:\u001b[0m\u001b[0;34m\u001b[0m\u001b[0;34m\u001b[0m\u001b[0m\n\u001b[0m\u001b[1;32m      2\u001b[0m     \u001b[0;32mdef\u001b[0m \u001b[0msolveNQueens\u001b[0m\u001b[0;34m(\u001b[0m\u001b[0mself\u001b[0m\u001b[0;34m,\u001b[0m \u001b[0mn\u001b[0m\u001b[0;34m:\u001b[0m \u001b[0mint\u001b[0m\u001b[0;34m)\u001b[0m \u001b[0;34m->\u001b[0m \u001b[0mList\u001b[0m\u001b[0;34m[\u001b[0m\u001b[0mList\u001b[0m\u001b[0;34m[\u001b[0m\u001b[0mstr\u001b[0m\u001b[0;34m]\u001b[0m\u001b[0;34m]\u001b[0m\u001b[0;34m:\u001b[0m\u001b[0;34m\u001b[0m\u001b[0;34m\u001b[0m\u001b[0m\n\u001b[1;32m      3\u001b[0m         \u001b[0mcol\u001b[0m \u001b[0;34m=\u001b[0m \u001b[0mset\u001b[0m\u001b[0;34m(\u001b[0m\u001b[0;34m)\u001b[0m\u001b[0;34m\u001b[0m\u001b[0;34m\u001b[0m\u001b[0m\n\u001b[1;32m      4\u001b[0m         \u001b[0mposDiag\u001b[0m \u001b[0;34m=\u001b[0m \u001b[0mset\u001b[0m\u001b[0;34m(\u001b[0m\u001b[0;34m)\u001b[0m \u001b[0;31m# (r + c)\u001b[0m\u001b[0;34m\u001b[0m\u001b[0;34m\u001b[0m\u001b[0m\n\u001b[1;32m      5\u001b[0m         \u001b[0mnegDiag\u001b[0m \u001b[0;34m=\u001b[0m \u001b[0mset\u001b[0m\u001b[0;34m(\u001b[0m\u001b[0;34m)\u001b[0m \u001b[0;31m# (r - c)\u001b[0m\u001b[0;34m\u001b[0m\u001b[0;34m\u001b[0m\u001b[0m\n",
      "\u001b[0;32m/var/folders/rd/h5fc4nxd5132zthf5b9zfyl40000gn/T/ipykernel_1915/434554161.py\u001b[0m in \u001b[0;36mSolution\u001b[0;34m()\u001b[0m\n\u001b[1;32m      1\u001b[0m \u001b[0;32mclass\u001b[0m \u001b[0mSolution\u001b[0m\u001b[0;34m:\u001b[0m\u001b[0;34m\u001b[0m\u001b[0;34m\u001b[0m\u001b[0m\n\u001b[0;32m----> 2\u001b[0;31m     \u001b[0;32mdef\u001b[0m \u001b[0msolveNQueens\u001b[0m\u001b[0;34m(\u001b[0m\u001b[0mself\u001b[0m\u001b[0;34m,\u001b[0m \u001b[0mn\u001b[0m\u001b[0;34m:\u001b[0m \u001b[0mint\u001b[0m\u001b[0;34m)\u001b[0m \u001b[0;34m->\u001b[0m \u001b[0mList\u001b[0m\u001b[0;34m[\u001b[0m\u001b[0mList\u001b[0m\u001b[0;34m[\u001b[0m\u001b[0mstr\u001b[0m\u001b[0;34m]\u001b[0m\u001b[0;34m]\u001b[0m\u001b[0;34m:\u001b[0m\u001b[0;34m\u001b[0m\u001b[0;34m\u001b[0m\u001b[0m\n\u001b[0m\u001b[1;32m      3\u001b[0m         \u001b[0mcol\u001b[0m \u001b[0;34m=\u001b[0m \u001b[0mset\u001b[0m\u001b[0;34m(\u001b[0m\u001b[0;34m)\u001b[0m\u001b[0;34m\u001b[0m\u001b[0;34m\u001b[0m\u001b[0m\n\u001b[1;32m      4\u001b[0m         \u001b[0mposDiag\u001b[0m \u001b[0;34m=\u001b[0m \u001b[0mset\u001b[0m\u001b[0;34m(\u001b[0m\u001b[0;34m)\u001b[0m \u001b[0;31m# (r + c)\u001b[0m\u001b[0;34m\u001b[0m\u001b[0;34m\u001b[0m\u001b[0m\n\u001b[1;32m      5\u001b[0m         \u001b[0mnegDiag\u001b[0m \u001b[0;34m=\u001b[0m \u001b[0mset\u001b[0m\u001b[0;34m(\u001b[0m\u001b[0;34m)\u001b[0m \u001b[0;31m# (r - c)\u001b[0m\u001b[0;34m\u001b[0m\u001b[0;34m\u001b[0m\u001b[0m\n",
      "\u001b[0;31mNameError\u001b[0m: name 'List' is not defined"
     ]
    }
   ],
   "source": [
    "class Solution:\n",
    "    def solveNQueens(self, n: int) -> List[List[str]]:\n",
    "        col = set()\n",
    "        posDiag = set() # (r + c)\n",
    "        negDiag = set() # (r - c)\n",
    "        \n",
    "        res = []\n",
    "        board = [[\".\"] * n for i in range(n)]\n",
    "        def backtrack(r):\n",
    "            if r == n:\n",
    "                copy = [\"\".join(row) for row in board]\n",
    "                res.append(copy)\n",
    "                return\n",
    "            \n",
    "            for c in range(n):\n",
    "                if c in col or (r + c) in posDiag or (r - c) in negDiag:\n",
    "                    continue\n",
    "                \n",
    "                col.add(c)\n",
    "                posDiag.add(r + c)\n",
    "                negDiag.add(r - c)\n",
    "                board[r][c] = \"Q\"\n",
    "                \n",
    "                backtrack(r + 1)\n",
    "                \n",
    "                col.remove(c)\n",
    "                posDiag.remove(r + c)\n",
    "                negDiag.remove(r - c)\n",
    "                board[r][c] = \".\"\n",
    "        backtrack(0)\n",
    "        return res"
   ]
  },
  {
   "cell_type": "markdown",
   "id": "9f4eefa3",
   "metadata": {},
   "source": [
    "# # Neet code 53  - Palindrome Partitioning"
   ]
  },
  {
   "cell_type": "code",
   "execution_count": null,
   "id": "b357bc10",
   "metadata": {},
   "outputs": [
    {
     "ename": "NameError",
     "evalue": "name 'List' is not defined",
     "output_type": "error",
     "traceback": [
      "\u001b[0;31m---------------------------------------------------------------------------\u001b[0m",
      "\u001b[0;31mNameError\u001b[0m                                 Traceback (most recent call last)",
      "\u001b[0;32m/var/folders/rd/h5fc4nxd5132zthf5b9zfyl40000gn/T/ipykernel_1915/2745200115.py\u001b[0m in \u001b[0;36m<module>\u001b[0;34m\u001b[0m\n\u001b[0;32m----> 1\u001b[0;31m \u001b[0;32mclass\u001b[0m \u001b[0mSolution\u001b[0m\u001b[0;34m:\u001b[0m\u001b[0;34m\u001b[0m\u001b[0;34m\u001b[0m\u001b[0m\n\u001b[0m\u001b[1;32m      2\u001b[0m \u001b[0;34m\u001b[0m\u001b[0m\n\u001b[1;32m      3\u001b[0m     \u001b[0;32mdef\u001b[0m \u001b[0mpartition\u001b[0m\u001b[0;34m(\u001b[0m\u001b[0mself\u001b[0m\u001b[0;34m,\u001b[0m \u001b[0ms\u001b[0m\u001b[0;34m:\u001b[0m\u001b[0mstr\u001b[0m\u001b[0;34m)\u001b[0m\u001b[0;34m->\u001b[0m\u001b[0mList\u001b[0m\u001b[0;34m[\u001b[0m\u001b[0mList\u001b[0m\u001b[0;34m[\u001b[0m\u001b[0mstr\u001b[0m\u001b[0;34m]\u001b[0m\u001b[0;34m]\u001b[0m\u001b[0;34m:\u001b[0m\u001b[0;34m\u001b[0m\u001b[0;34m\u001b[0m\u001b[0m\n\u001b[1;32m      4\u001b[0m \u001b[0;34m\u001b[0m\u001b[0m\n\u001b[1;32m      5\u001b[0m \u001b[0;34m\u001b[0m\u001b[0m\n",
      "\u001b[0;32m/var/folders/rd/h5fc4nxd5132zthf5b9zfyl40000gn/T/ipykernel_1915/2745200115.py\u001b[0m in \u001b[0;36mSolution\u001b[0;34m()\u001b[0m\n\u001b[1;32m      1\u001b[0m \u001b[0;32mclass\u001b[0m \u001b[0mSolution\u001b[0m\u001b[0;34m:\u001b[0m\u001b[0;34m\u001b[0m\u001b[0;34m\u001b[0m\u001b[0m\n\u001b[1;32m      2\u001b[0m \u001b[0;34m\u001b[0m\u001b[0m\n\u001b[0;32m----> 3\u001b[0;31m     \u001b[0;32mdef\u001b[0m \u001b[0mpartition\u001b[0m\u001b[0;34m(\u001b[0m\u001b[0mself\u001b[0m\u001b[0;34m,\u001b[0m \u001b[0ms\u001b[0m\u001b[0;34m:\u001b[0m\u001b[0mstr\u001b[0m\u001b[0;34m)\u001b[0m\u001b[0;34m->\u001b[0m\u001b[0mList\u001b[0m\u001b[0;34m[\u001b[0m\u001b[0mList\u001b[0m\u001b[0;34m[\u001b[0m\u001b[0mstr\u001b[0m\u001b[0;34m]\u001b[0m\u001b[0;34m]\u001b[0m\u001b[0;34m:\u001b[0m\u001b[0;34m\u001b[0m\u001b[0;34m\u001b[0m\u001b[0m\n\u001b[0m\u001b[1;32m      4\u001b[0m \u001b[0;34m\u001b[0m\u001b[0m\n\u001b[1;32m      5\u001b[0m \u001b[0;34m\u001b[0m\u001b[0m\n",
      "\u001b[0;31mNameError\u001b[0m: name 'List' is not defined"
     ]
    }
   ],
   "source": [
    "class Solution:\n",
    "    \n",
    "    def partition(self, s:str)->List[List[str]]:\n",
    "        \n",
    "        \n",
    "        res ,part =[],[]\n",
    "        \n",
    "        \n",
    "        def dfs(i):\n",
    "            \n",
    "            if i >= len(s):\n",
    "                res.append(part.copy())\n",
    "                return\n",
    "            \n",
    "            for j in range(i,len(s)):\n",
    "                if self.isPali(s,i,j):\n",
    "                    \n",
    "                    part.append(s[i:j+1])\n",
    "                    dfs(j+1)\n",
    "\n",
    "                    part.pop()\n",
    "                \n",
    "            dfs(0)\n",
    "            \n",
    "            return res\n",
    "        \n",
    "        def isPali(self,s,l,r):\n",
    "            \n",
    "            while l<r:\n",
    "                if s[l] !=s [r]:\n",
    "                    return False\n",
    "                l,r=l+1,r-1\n",
    "                \n",
    "            return True\n",
    "            "
   ]
  },
  {
   "cell_type": "markdown",
   "id": "95eb4203",
   "metadata": {},
   "source": [
    "# Graphs"
   ]
  },
  {
   "cell_type": "markdown",
   "id": "ea48aa09",
   "metadata": {},
   "source": [
    "# Neet code 53  - Palindrome Partitioning"
   ]
  },
  {
   "cell_type": "code",
   "execution_count": null,
   "id": "1605a9d4",
   "metadata": {},
   "outputs": [],
   "source": [
    "class Solution:\n",
    "    \n",
    "    def numIslands(self, grid):\n",
    "        \n",
    "        if not grid:\n",
    "            return 0\n",
    "        \n",
    "        rows, cols = len(grid), len(grid[0])\n",
    "        visit = set()\n",
    "        islands = 0\n",
    "        \n",
    "        \n",
    "        def bfs(r,c):\n",
    "            \n",
    "            q = deque()\n",
    "            visit.add((r,c))\n",
    "            q.append((r,c))\n",
    "            print(visit)\n",
    "            \n",
    "            while q:\n",
    "                row,col= q.popleft()\n",
    "                directions = [[1,0],[-1,0],[0,1],[0,-1]]\n",
    "                \n",
    "                for dr,dc in directions:\n",
    "                    r,c = row+dr, col+dc\n",
    "                    if (r in range(rows) and \n",
    "                        c in range(cols) and \n",
    "                        grid[r][c]==\"1\" and \n",
    "                        (r,c) not in visit):\n",
    "                        \n",
    "                        q.append((r,c))\n",
    "                        print(q)\n",
    "                        visit.add((r,c))\n",
    "                        #\n",
    "                        print(q)\n",
    "        \n",
    "        \n",
    "        \n",
    "        \n",
    "\n",
    "        for r in range(rows):\n",
    "            for c in range(cols):\n",
    "                if grid[r][c]==\"1\" and (r,c) not in visit:\n",
    "                    bfs(r,c)\n",
    "                    \n",
    "                    islands +=1\n",
    "        return islands "
   ]
  },
  {
   "cell_type": "code",
   "execution_count": null,
   "id": "2755f4e1",
   "metadata": {},
   "outputs": [],
   "source": [
    "grid = [[\"1\",\"1\",\"1\",\"1\",\"0\"],[\"1\",\"1\",\"0\",\"1\",\"0\"],[\"1\",\"1\",\"0\",\"0\",\"0\"],[\"0\",\"0\",\"0\",\"0\",\"0\"]]"
   ]
  },
  {
   "cell_type": "code",
   "execution_count": null,
   "id": "03fe2f79",
   "metadata": {},
   "outputs": [
    {
     "name": "stdout",
     "output_type": "stream",
     "text": [
      "{(0, 0)}\n",
      "deque([(1, 0)])\n",
      "deque([(1, 0)])\n",
      "deque([(1, 0), (0, 1)])\n",
      "deque([(1, 0), (0, 1)])\n",
      "deque([(0, 1), (2, 0)])\n",
      "deque([(0, 1), (2, 0)])\n",
      "deque([(0, 1), (2, 0), (1, 1)])\n",
      "deque([(0, 1), (2, 0), (1, 1)])\n",
      "deque([(2, 0), (1, 1), (0, 2)])\n",
      "deque([(2, 0), (1, 1), (0, 2)])\n",
      "deque([(1, 1), (0, 2), (2, 1)])\n",
      "deque([(1, 1), (0, 2), (2, 1)])\n",
      "deque([(2, 1), (0, 3)])\n",
      "deque([(2, 1), (0, 3)])\n",
      "deque([(1, 3)])\n",
      "deque([(1, 3)])\n"
     ]
    },
    {
     "data": {
      "text/plain": [
       "1"
      ]
     },
     "execution_count": 44,
     "metadata": {},
     "output_type": "execute_result"
    }
   ],
   "source": [
    "from collections import deque\n",
    "\n",
    "s=Solution()\n",
    "s.numIslands(grid)"
   ]
  },
  {
   "cell_type": "code",
   "execution_count": null,
   "id": "ea259438",
   "metadata": {},
   "outputs": [],
   "source": [
    "freq = [[] for i in range(7 + 1)]"
   ]
  },
  {
   "cell_type": "code",
   "execution_count": null,
   "id": "a2d4b526",
   "metadata": {},
   "outputs": [
    {
     "data": {
      "text/plain": [
       "[[], [], [], [], [], [], [], []]"
      ]
     },
     "execution_count": 4,
     "metadata": {},
     "output_type": "execute_result"
    }
   ],
   "source": [
    "freq"
   ]
  },
  {
   "cell_type": "code",
   "execution_count": null,
   "id": "994a410d",
   "metadata": {},
   "outputs": [],
   "source": [
    "def topKFrequent(self, nums: List[int], k: int) -> List[int]:\n",
    "        count = {}\n",
    "        freq = [[] for i in range(len(nums) + 1)]\n",
    "        \n",
    "        for n in nums:\n",
    "            count[n] = 1 + count.get(n, 0)\n",
    "        for n, c in count.items():\n",
    "            freq[c].append(n)\n",
    "        \n",
    "        res = []\n",
    "        for i in range(len(freq) - 1, 0, -1):\n",
    "            for n in freq[i]:\n",
    "                res.append(n)\n",
    "                if len(res) == k:\n",
    "                    return res\n",
    "        "
   ]
  },
  {
   "cell_type": "code",
   "execution_count": null,
   "id": "fa0024ff",
   "metadata": {},
   "outputs": [
    {
     "name": "stdout",
     "output_type": "stream",
     "text": [
      "8\n",
      "7\n",
      "6\n",
      "5\n",
      "4\n",
      "3\n",
      "2\n",
      "1\n",
      "0\n"
     ]
    }
   ],
   "source": [
    "for i in range(9 - 1, -1, -1):\n",
    "    print(i)"
   ]
  },
  {
   "cell_type": "code",
   "execution_count": null,
   "id": "b240b530",
   "metadata": {},
   "outputs": [
    {
     "name": "stdout",
     "output_type": "stream",
     "text": [
      "9\n",
      "8\n",
      "7\n",
      "6\n",
      "5\n",
      "4\n",
      "3\n",
      "2\n",
      "1\n"
     ]
    }
   ],
   "source": [
    "for i in range(10 - 1, 0, -1):\n",
    "    \n",
    "    print(i)"
   ]
  },
  {
   "cell_type": "code",
   "execution_count": null,
   "id": "018a9835",
   "metadata": {},
   "outputs": [
    {
     "name": "stdout",
     "output_type": "stream",
     "text": [
      "0\n",
      "1\n",
      "2\n",
      "3\n",
      "4\n"
     ]
    }
   ],
   "source": [
    "for i in range(5):\n",
    "    print(i)"
   ]
  },
  {
   "cell_type": "code",
   "execution_count": null,
   "id": "27af0e9b",
   "metadata": {},
   "outputs": [
    {
     "name": "stdout",
     "output_type": "stream",
     "text": [
      "[(11, 2, 0)]\n",
      "[(4, 4, 0)]\n",
      "[(4, 5, 0)]\n",
      "[(11, 6, 0)]\n",
      "[(1, 7, 0)]\n",
      "None\n"
     ]
    }
   ],
   "source": [
    "import heapq\n",
    "class Solution:\n",
    "    def solve(self, lists):\n",
    "        n = len(lists)\n",
    "        heap = []\n",
    "        for i, row in enumerate(lists):\n",
    "            if row:\n",
    "                heapq.heappush(heap, (row[0], i, 0))\n",
    "                \n",
    "                print(heap)\n",
    "            res = []\n",
    "\n",
    "            while heap:\n",
    "                num, row, col= heapq.heappop(heap)\n",
    "                res.append(num)\n",
    "        \n",
    "\n",
    "                if col < len(lists[row]) - 1:\n",
    "                    heapq.heappush(heap, (lists[row][col + 1], row, col + 1))\n",
    "                \n",
    "                  \n",
    "                    \n",
    "                    \n",
    "            \n",
    "\n",
    "\n",
    "\n",
    "ob = Solution()\n",
    "lists = [[],[],[11, 13],[],[4, 4, 14],[4],[11],[1, 8]]\n",
    "print(ob.solve(lists))"
   ]
  },
  {
   "cell_type": "code",
   "execution_count": null,
   "id": "5a45c323",
   "metadata": {},
   "outputs": [
    {
     "name": "stdout",
     "output_type": "stream",
     "text": [
      "[]\n",
      "[]\n",
      "[(11, 2, 0)]\n",
      "[]\n",
      "[(4, 4, 0)]\n",
      "[(4, 5, 0)]\n",
      "[(11, 6, 0)]\n",
      "[(1, 7, 0)]\n",
      "None\n"
     ]
    }
   ],
   "source": [
    "import heapq\n",
    "class Solution:\n",
    "    def solve(self, lists):\n",
    "        n = len(lists)\n",
    "        heap = []\n",
    "        for i, row in enumerate(lists):\n",
    "            if row:\n",
    "                heapq.heappush(heap, (row[0], i, 0))\n",
    "                \n",
    "            print(heap)\n",
    "            res = []\n",
    "\n",
    "            while heap:\n",
    "                num, row, col= heapq.heappop(heap)\n",
    "                res.append(num)\n",
    "\n",
    "                if col < len(lists[row]) - 1:\n",
    "                    heapq.heappush(heap, (lists[row][col + 1], row, col + 1))\n",
    "           \n",
    "\n",
    "\n",
    "ob = Solution()\n",
    "lists = [[],[],[11, 13],[],[4, 4, 14],[4],[11],[1, 8]]\n",
    "print(ob.solve(lists))"
   ]
  },
  {
   "cell_type": "code",
   "execution_count": null,
   "id": "8965c0f8",
   "metadata": {},
   "outputs": [
    {
     "name": "stdout",
     "output_type": "stream",
     "text": [
      "[1]\n",
      "[(4, 4, 0), (8, 7, 1), (4, 5, 0), (11, 6, 0), (11, 2, 0)]\n",
      "[1, 4]\n",
      "[(4, 4, 1), (4, 5, 0), (11, 2, 0), (11, 6, 0), (8, 7, 1)]\n",
      "[1, 4, 4]\n",
      "[(4, 5, 0), (8, 7, 1), (11, 2, 0), (11, 6, 0), (14, 4, 2)]\n",
      "[1, 4, 4, 4]\n",
      "[(8, 7, 1), (11, 6, 0), (11, 2, 0), (14, 4, 2)]\n",
      "[1, 4, 4, 4, 8]\n",
      "[(11, 2, 0), (11, 6, 0), (14, 4, 2)]\n",
      "[1, 4, 4, 4, 8, 11]\n",
      "[(11, 6, 0), (14, 4, 2), (13, 2, 1)]\n",
      "[1, 4, 4, 4, 8, 11, 11]\n",
      "[(13, 2, 1), (14, 4, 2)]\n",
      "[1, 4, 4, 4, 8, 11, 11, 13]\n",
      "[(14, 4, 2)]\n",
      "[1, 4, 4, 4, 8, 11, 11, 13, 14]\n",
      "[]\n",
      "None\n"
     ]
    }
   ],
   "source": [
    "import heapq\n",
    "class Solution:\n",
    "    def solve(self, lists):\n",
    "        n = len(lists)\n",
    "        heap = []\n",
    "        for i, row in enumerate(lists):\n",
    "            if row:\n",
    "                heapq.heappush(heap, (row[0], i, 0))\n",
    "            \n",
    "            res = []\n",
    "\n",
    "        while heap:\n",
    "            num, row, col = heapq.heappop(heap)\n",
    "         \n",
    "            res.append(num)\n",
    "            print(res)\n",
    "            if col < len(lists[row]) - 1:\n",
    "                heapq.heappush(heap, (lists[row][col + 1], row, col + 1))\n",
    "            print(heap)\n",
    "        \n",
    "      \n",
    "      \n",
    "ob = Solution()\n",
    "lists = [[],[],[11, 13],[],[4, 4, 14],[4],[11],[1, 8]]\n",
    "print(ob.solve(lists))"
   ]
  },
  {
   "cell_type": "code",
   "execution_count": null,
   "id": "92fdcb09",
   "metadata": {},
   "outputs": [],
   "source": []
  }
 ],
 "metadata": {
  "kernelspec": {
   "display_name": "Python 3.9.7 ('base')",
   "language": "python",
   "name": "python3"
  },
  "language_info": {
   "codemirror_mode": {
    "name": "ipython",
    "version": 3
   },
   "file_extension": ".py",
   "mimetype": "text/x-python",
   "name": "python",
   "nbconvert_exporter": "python",
   "pygments_lexer": "ipython3",
   "version": "3.9.7"
  },
  "vscode": {
   "interpreter": {
    "hash": "8375a5b0c53c29af4c0f197d4955e37c1c83553e3f365bdd76a3b1c558c9be78"
   }
  }
 },
 "nbformat": 4,
 "nbformat_minor": 5
}
